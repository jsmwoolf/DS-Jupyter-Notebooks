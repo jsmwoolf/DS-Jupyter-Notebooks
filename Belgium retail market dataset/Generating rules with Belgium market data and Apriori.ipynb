{
 "cells": [
  {
   "cell_type": "markdown",
   "metadata": {},
   "source": [
    "# Introduction\n",
    "\n",
    "The Belgium retail market dataset is ideal for practicing on generating association rules.\n",
    "\n",
    "Let's see how support and confidence influences the number of rules that are return in Apriori."
   ]
  },
  {
   "cell_type": "markdown",
   "metadata": {},
   "source": [
    "## Loading the data\n",
    "\n",
    "We first load the file that contains the data.  Even though the data is not a CSV file, each line represents a receipt of items.\n",
    "\n",
    "Additionally, since the purchases are represented as a string, we convert the string to an array of integers."
   ]
  },
  {
   "cell_type": "code",
   "execution_count": 1,
   "metadata": {},
   "outputs": [
    {
     "name": "stdout",
     "output_type": "stream",
     "text": [
      "Number of transactions = 88162\n"
     ]
    },
    {
     "data": {
      "text/html": [
       "<div>\n",
       "<table border=\"1\" class=\"dataframe\">\n",
       "  <thead>\n",
       "    <tr style=\"text-align: right;\">\n",
       "      <th></th>\n",
       "      <th>Purchases</th>\n",
       "    </tr>\n",
       "  </thead>\n",
       "  <tbody>\n",
       "    <tr>\n",
       "      <th>0</th>\n",
       "      <td>[0, 1, 2, 3, 4, 5, 6, 7, 8, 9, 10, 11, 12, 13,...</td>\n",
       "    </tr>\n",
       "    <tr>\n",
       "      <th>1</th>\n",
       "      <td>[30, 31, 32]</td>\n",
       "    </tr>\n",
       "    <tr>\n",
       "      <th>2</th>\n",
       "      <td>[33, 34, 35]</td>\n",
       "    </tr>\n",
       "    <tr>\n",
       "      <th>3</th>\n",
       "      <td>[36, 37, 38, 39, 40, 41, 42, 43, 44, 45, 46]</td>\n",
       "    </tr>\n",
       "    <tr>\n",
       "      <th>4</th>\n",
       "      <td>[38, 39, 47, 48]</td>\n",
       "    </tr>\n",
       "  </tbody>\n",
       "</table>\n",
       "</div>"
      ],
      "text/plain": [
       "                                           Purchases\n",
       "0  [0, 1, 2, 3, 4, 5, 6, 7, 8, 9, 10, 11, 12, 13,...\n",
       "1                                       [30, 31, 32]\n",
       "2                                       [33, 34, 35]\n",
       "3       [36, 37, 38, 39, 40, 41, 42, 43, 44, 45, 46]\n",
       "4                                   [38, 39, 47, 48]"
      ]
     },
     "execution_count": 1,
     "metadata": {},
     "output_type": "execute_result"
    }
   ],
   "source": [
    "import pandas as pd\n",
    "import numpy as np\n",
    "\n",
    "d = pd.read_csv(\"retail.dat\", header=None, names=['Purchases'])\n",
    "\n",
    "# Convert the strings to a list of integers\n",
    "d['Purchases'] = [[int(x) for x in row] for row in d['Purchases'].str.split()]\n",
    "\n",
    "print(\"Number of transactions = {}\".format(len(d)))\n",
    "d.head()"
   ]
  },
  {
   "cell_type": "markdown",
   "metadata": {},
   "source": [
    "Since we don't know the items or if the items lie on a continuous interval, we will check whether it's the case."
   ]
  },
  {
   "cell_type": "code",
   "execution_count": 2,
   "metadata": {},
   "outputs": [
    {
     "name": "stdout",
     "output_type": "stream",
     "text": [
      "Is continuous in interval [0,16469]\n",
      "76\n"
     ]
    }
   ],
   "source": [
    "# Grab all possible transactions\n",
    "numbers = set()\n",
    "maxLen = 0\n",
    "for index, row in d.iterrows():\n",
    "    if maxLen < len(row['Purchases']):\n",
    "        maxLen = len(row['Purchases'])\n",
    "    numbers = numbers.union(set(row['Purchases']))\n",
    "\n",
    "# Check whether the number set is continuous\n",
    "isCont = True\n",
    "nextNum = 0\n",
    "for i in numbers:\n",
    "    if i != nextNum:\n",
    "        isCont = False\n",
    "        break\n",
    "    nextNum += 1\n",
    "\n",
    "if isCont:\n",
    "    nextNum -= 1\n",
    "    print(\"Is continuous in interval [0,{}]\".format(nextNum))\n",
    "print(maxLen)"
   ]
  },
  {
   "cell_type": "markdown",
   "metadata": {},
   "source": [
    "## Observing the behavior of Apriori"
   ]
  },
  {
   "cell_type": "code",
   "execution_count": 3,
   "metadata": {},
   "outputs": [],
   "source": [
    "import re, itertools\n",
    "\n",
    "# A customized version on itertools.combinations algorithm\n",
    "def combinations(iterable, r):\n",
    "    pool = tuple(iterable)\n",
    "    n = len(pool)\n",
    "    if r > n:\n",
    "        return\n",
    "    result = tuple(int(i) for i in \n",
    "                   list(set(re.findall(r'[0-9]+', str(pool)))))\n",
    "    for comb in itertools.combinations(sorted(result),r):\n",
    "        yield comb, [i for i in itertools.combinations(comb, r - 1)]\n",
    "\n",
    "def apriori(ds, interval, support, confidence):\n",
    "    # Generate the list of indexes that each item occurs in.\n",
    "    def genInitList(dataset, myInterval):\n",
    "        res = {num:[] for num in myInterval}\n",
    "        for index, row in dataset.iterrows():\n",
    "            for num in row['Purchases']:\n",
    "                res[num] += [index]\n",
    "        return res\n",
    "    # Determine the probability that the list is in\n",
    "    def getProb(occur):\n",
    "        singleProb = []\n",
    "        origLen = len(ds)\n",
    "        for key, value in occur.items():\n",
    "            singleProb.append((len(value), key, value))\n",
    "        singleProb = tuple(sorted(singleProb))\n",
    "        singleProb = singleProb[::-1]\n",
    "        indx = 0\n",
    "        while indx < len(singleProb) and \\\n",
    "              singleProb[indx][0]/origLen >= support:\n",
    "            indx += 1\n",
    "        return singleProb[:indx]\n",
    "    def genSubsets(data, level):\n",
    "        res = {}\n",
    "        temp = {str(key):value for prob, key, value in data}\n",
    "        for comb in combinations(temp,level):\n",
    "            tmp2 = str(comb)\n",
    "            result = tuple(int(i) for i in sorted(set(re.findall(r'[0-9]+', tmp2))))\n",
    "            newList = []\n",
    "            if level == 2:\n",
    "                newList = [str(newItem[0]) for newItem in sorted(comb[1])]\n",
    "            else:\n",
    "                newList = [str(newItem) for newItem in comb[1] \\\n",
    "                           if str(newItem) in temp]\n",
    "            # It's possible that the sets are completely disjointed\n",
    "            if len(newList) == 0:\n",
    "                continue\n",
    "            result = tuple(i for i in sorted(result))\n",
    "            res[result] = set.intersection(*[set(temp[i]) for i in newList ] )\n",
    "        return res\n",
    "    # Return the number of instances where the combination of numbers\n",
    "    # are in the same set\n",
    "    def retOccurCnt(myTuple, myIndx):\n",
    "        mySet = set.intersection(*[set(myIndx[num]) for num in myTuple])\n",
    "        return len(mySet)\n",
    "    # Beginning of Apriori algorithm\n",
    "    curInt = range(0,interval + 1)\n",
    "    origLen = len(ds)\n",
    "    # Generate the indexes of each \n",
    "    numOccur = genInitList(ds, curInt)\n",
    "    indxList = numOccur\n",
    "    # Get the support of each subset\n",
    "    layer = 1\n",
    "    curRules = {} # Holds the rules we'll be working with\n",
    "    while len(numOccur) != 0:\n",
    "        probs = getProb(numOccur)\n",
    "        for prob, key, value in probs:\n",
    "            curRules[key] = prob\n",
    "        layer += 1\n",
    "        numOccur = genSubsets(probs,layer)\n",
    "    rulesList = list(curRules.items())\n",
    "    rules = [] # The array we're suppose to return of each rule\n",
    "    # Now determine which rules are most likely to be associated\n",
    "    for i in range(0,len(rulesList)):\n",
    "        for j in range(i+1,len(rulesList)):\n",
    "            if type(rulesList[i][0]) == int:\n",
    "                set1 = set([rulesList[i][0]])\n",
    "            else:\n",
    "                set1 = set([x for x in rulesList[i][0]])\n",
    "            if type(rulesList[j][0]) == int:\n",
    "                set2 = set([rulesList[j][0]])\n",
    "            else:\n",
    "                set2 = set([x for x in rulesList[j][0]])\n",
    "            if not set1.isdisjoint(set2):\n",
    "                continue\n",
    "            combined = tuple(i for i in sorted(set.union(*[set1, set2])))\n",
    "            combAmnt = retOccurCnt(combined,indxList)\n",
    "            confid1 = (combAmnt/rulesList[i][1])\n",
    "            confid2 = (combAmnt/rulesList[j][1])\n",
    "            if confid1 >= confidence:\n",
    "                rules.append(\"{} -> {}\".format(set1, set2))\n",
    "            if confid2 >= confidence:\n",
    "                rules.append(\"{} -> {}\".format(set2, set1))\n",
    "    return rules"
   ]
  },
  {
   "cell_type": "markdown",
   "metadata": {},
   "source": [
    "Now, we're going to observe how support and confidence values influences the number of rules made."
   ]
  },
  {
   "cell_type": "code",
   "execution_count": 4,
   "metadata": {
    "scrolled": true
   },
   "outputs": [
    {
     "name": "stdout",
     "output_type": "stream",
     "text": [
      "Number of rules with support:0.5 and confidence:0.8 - 0\n",
      "Number of rules with support:0.5 and confidence:0.5 - 0\n",
      "Number of rules with support:0.5 and confidence:0.25 - 0\n",
      "Number of rules with support:0.5 and confidence:0.15 - 0\n",
      "Number of rules with support:0.5 and confidence:0.1 - 0\n",
      "Number of rules with support:0.25 and confidence:0.8 - 0\n",
      "Number of rules with support:0.25 and confidence:0.5 - 2\n",
      "Number of rules with support:0.25 and confidence:0.25 - 2\n",
      "Number of rules with support:0.25 and confidence:0.15 - 2\n",
      "Number of rules with support:0.25 and confidence:0.1 - 2\n",
      "Number of rules with support:0.1 and confidence:0.8 - 1\n",
      "Number of rules with support:0.1 and confidence:0.5 - 11\n",
      "Number of rules with support:0.1 and confidence:0.25 - 19\n",
      "Number of rules with support:0.1 and confidence:0.15 - 43\n",
      "Number of rules with support:0.1 and confidence:0.1 - 47\n",
      "Number of rules with support:0.05 and confidence:0.8 - 1\n",
      "Number of rules with support:0.05 and confidence:0.5 - 16\n",
      "Number of rules with support:0.05 and confidence:0.25 - 32\n",
      "Number of rules with support:0.05 and confidence:0.15 - 72\n",
      "Number of rules with support:0.05 and confidence:0.1 - 96\n",
      "Number of rules with support:0.03 and confidence:0.8 - 4\n",
      "Number of rules with support:0.03 and confidence:0.5 - 49\n",
      "Number of rules with support:0.03 and confidence:0.25 - 91\n",
      "Number of rules with support:0.03 and confidence:0.15 - 220\n",
      "Number of rules with support:0.03 and confidence:0.1 - 286\n"
     ]
    }
   ],
   "source": [
    "for i in [0.5, 0.25, 0.1, 0.05, 0.03]:\n",
    "    for j in [0.8, 0.5, 0.25, 0.15, 0.1]:\n",
    "        print(\"Number of rules with support:{} and confidence:{} - {}\"\\\n",
    "              .format(i, j, len(apriori(d, nextNum, i, j))))"
   ]
  }
 ],
 "metadata": {
  "kernelspec": {
   "display_name": "Python 3",
   "language": "python",
   "name": "python3"
  },
  "language_info": {
   "codemirror_mode": {
    "name": "ipython",
    "version": 3
   },
   "file_extension": ".py",
   "mimetype": "text/x-python",
   "name": "python",
   "nbconvert_exporter": "python",
   "pygments_lexer": "ipython3",
   "version": "3.6.1"
  }
 },
 "nbformat": 4,
 "nbformat_minor": 2
}
