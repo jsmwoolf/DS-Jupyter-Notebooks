{
 "cells": [
  {
   "cell_type": "markdown",
   "metadata": {},
   "source": [
    "# Introduction\n",
    "\n",
    "The dataset that we'll be looking at is a list of job candidates arriving to their interviews.  The users are based in India and deals with industries from Finance and Medical to IT.\n",
    "\n",
    "Upon looking at the data, it was noted that there is data that needs to cleaned.  A clean dataset would allow for better data for EDA and model training.  This journel will primarly focus on how we'll clean the dataset."
   ]
  },
  {
   "cell_type": "markdown",
   "metadata": {},
   "source": [
    "## Setting up our environment\n",
    "\n",
    "We'll use Python and pandas to perform our data wrangling."
   ]
  },
  {
   "cell_type": "code",
   "execution_count": 1,
   "metadata": {},
   "outputs": [],
   "source": [
    "import pandas as pd\n",
    "import numpy as np\n",
    "import matplotlib.pyplot as plt\n",
    "%matplotlib inline"
   ]
  },
  {
   "cell_type": "code",
   "execution_count": 2,
   "metadata": {},
   "outputs": [
    {
     "data": {
      "text/html": [
       "<div>\n",
       "<style scoped>\n",
       "    .dataframe tbody tr th:only-of-type {\n",
       "        vertical-align: middle;\n",
       "    }\n",
       "\n",
       "    .dataframe tbody tr th {\n",
       "        vertical-align: top;\n",
       "    }\n",
       "\n",
       "    .dataframe thead th {\n",
       "        text-align: right;\n",
       "    }\n",
       "</style>\n",
       "<table border=\"1\" class=\"dataframe\">\n",
       "  <thead>\n",
       "    <tr style=\"text-align: right;\">\n",
       "      <th></th>\n",
       "      <th>Date of Interview</th>\n",
       "      <th>Client name</th>\n",
       "      <th>Industry</th>\n",
       "      <th>Location</th>\n",
       "      <th>Position to be closed</th>\n",
       "      <th>Nature of Skillset</th>\n",
       "      <th>Interview Type</th>\n",
       "      <th>Name(Cand ID)</th>\n",
       "      <th>Gender</th>\n",
       "      <th>Candidate Current Location</th>\n",
       "      <th>...</th>\n",
       "      <th>Are you clear with the venue details and the landmark.</th>\n",
       "      <th>Has the call letter been shared</th>\n",
       "      <th>Expected Attendance</th>\n",
       "      <th>Observed Attendance</th>\n",
       "      <th>Marital Status</th>\n",
       "      <th>Unnamed: 23</th>\n",
       "      <th>Unnamed: 24</th>\n",
       "      <th>Unnamed: 25</th>\n",
       "      <th>Unnamed: 26</th>\n",
       "      <th>Unnamed: 27</th>\n",
       "    </tr>\n",
       "  </thead>\n",
       "  <tbody>\n",
       "    <tr>\n",
       "      <th>0</th>\n",
       "      <td>13.02.2015</td>\n",
       "      <td>Hospira</td>\n",
       "      <td>Pharmaceuticals</td>\n",
       "      <td>Chennai</td>\n",
       "      <td>Production- Sterile</td>\n",
       "      <td>Routine</td>\n",
       "      <td>Scheduled Walkin</td>\n",
       "      <td>Candidate 1</td>\n",
       "      <td>Male</td>\n",
       "      <td>Chennai</td>\n",
       "      <td>...</td>\n",
       "      <td>Yes</td>\n",
       "      <td>Yes</td>\n",
       "      <td>Yes</td>\n",
       "      <td>No</td>\n",
       "      <td>Single</td>\n",
       "      <td>NaN</td>\n",
       "      <td>NaN</td>\n",
       "      <td>NaN</td>\n",
       "      <td>NaN</td>\n",
       "      <td>NaN</td>\n",
       "    </tr>\n",
       "    <tr>\n",
       "      <th>1</th>\n",
       "      <td>13.02.2015</td>\n",
       "      <td>Hospira</td>\n",
       "      <td>Pharmaceuticals</td>\n",
       "      <td>Chennai</td>\n",
       "      <td>Production- Sterile</td>\n",
       "      <td>Routine</td>\n",
       "      <td>Scheduled Walkin</td>\n",
       "      <td>Candidate 2</td>\n",
       "      <td>Male</td>\n",
       "      <td>Chennai</td>\n",
       "      <td>...</td>\n",
       "      <td>Yes</td>\n",
       "      <td>Yes</td>\n",
       "      <td>Yes</td>\n",
       "      <td>No</td>\n",
       "      <td>Single</td>\n",
       "      <td>NaN</td>\n",
       "      <td>NaN</td>\n",
       "      <td>NaN</td>\n",
       "      <td>NaN</td>\n",
       "      <td>NaN</td>\n",
       "    </tr>\n",
       "    <tr>\n",
       "      <th>2</th>\n",
       "      <td>13.02.2015</td>\n",
       "      <td>Hospira</td>\n",
       "      <td>Pharmaceuticals</td>\n",
       "      <td>Chennai</td>\n",
       "      <td>Production- Sterile</td>\n",
       "      <td>Routine</td>\n",
       "      <td>Scheduled Walkin</td>\n",
       "      <td>Candidate 3</td>\n",
       "      <td>Male</td>\n",
       "      <td>Chennai</td>\n",
       "      <td>...</td>\n",
       "      <td>NaN</td>\n",
       "      <td>NaN</td>\n",
       "      <td>Uncertain</td>\n",
       "      <td>No</td>\n",
       "      <td>Single</td>\n",
       "      <td>NaN</td>\n",
       "      <td>NaN</td>\n",
       "      <td>NaN</td>\n",
       "      <td>NaN</td>\n",
       "      <td>NaN</td>\n",
       "    </tr>\n",
       "    <tr>\n",
       "      <th>3</th>\n",
       "      <td>13.02.2015</td>\n",
       "      <td>Hospira</td>\n",
       "      <td>Pharmaceuticals</td>\n",
       "      <td>Chennai</td>\n",
       "      <td>Production- Sterile</td>\n",
       "      <td>Routine</td>\n",
       "      <td>Scheduled Walkin</td>\n",
       "      <td>Candidate 4</td>\n",
       "      <td>Male</td>\n",
       "      <td>Chennai</td>\n",
       "      <td>...</td>\n",
       "      <td>Yes</td>\n",
       "      <td>Yes</td>\n",
       "      <td>Uncertain</td>\n",
       "      <td>No</td>\n",
       "      <td>Single</td>\n",
       "      <td>NaN</td>\n",
       "      <td>NaN</td>\n",
       "      <td>NaN</td>\n",
       "      <td>NaN</td>\n",
       "      <td>NaN</td>\n",
       "    </tr>\n",
       "    <tr>\n",
       "      <th>4</th>\n",
       "      <td>13.02.2015</td>\n",
       "      <td>Hospira</td>\n",
       "      <td>Pharmaceuticals</td>\n",
       "      <td>Chennai</td>\n",
       "      <td>Production- Sterile</td>\n",
       "      <td>Routine</td>\n",
       "      <td>Scheduled Walkin</td>\n",
       "      <td>Candidate 5</td>\n",
       "      <td>Male</td>\n",
       "      <td>Chennai</td>\n",
       "      <td>...</td>\n",
       "      <td>Yes</td>\n",
       "      <td>Yes</td>\n",
       "      <td>Uncertain</td>\n",
       "      <td>No</td>\n",
       "      <td>Married</td>\n",
       "      <td>NaN</td>\n",
       "      <td>NaN</td>\n",
       "      <td>NaN</td>\n",
       "      <td>NaN</td>\n",
       "      <td>NaN</td>\n",
       "    </tr>\n",
       "  </tbody>\n",
       "</table>\n",
       "<p>5 rows × 28 columns</p>\n",
       "</div>"
      ],
      "text/plain": [
       "  Date of Interview Client name         Industry Location  \\\n",
       "0        13.02.2015     Hospira  Pharmaceuticals  Chennai   \n",
       "1        13.02.2015     Hospira  Pharmaceuticals  Chennai   \n",
       "2        13.02.2015     Hospira  Pharmaceuticals  Chennai   \n",
       "3        13.02.2015     Hospira  Pharmaceuticals  Chennai   \n",
       "4        13.02.2015     Hospira  Pharmaceuticals  Chennai   \n",
       "\n",
       "  Position to be closed Nature of Skillset    Interview Type Name(Cand ID)  \\\n",
       "0   Production- Sterile            Routine  Scheduled Walkin   Candidate 1   \n",
       "1   Production- Sterile            Routine  Scheduled Walkin   Candidate 2   \n",
       "2   Production- Sterile            Routine  Scheduled Walkin   Candidate 3   \n",
       "3   Production- Sterile            Routine  Scheduled Walkin   Candidate 4   \n",
       "4   Production- Sterile            Routine  Scheduled Walkin   Candidate 5   \n",
       "\n",
       "  Gender Candidate Current Location     ...      \\\n",
       "0   Male                    Chennai     ...       \n",
       "1   Male                    Chennai     ...       \n",
       "2   Male                    Chennai     ...       \n",
       "3   Male                    Chennai     ...       \n",
       "4   Male                    Chennai     ...       \n",
       "\n",
       "  Are you clear with the venue details and the landmark.  \\\n",
       "0                                                Yes       \n",
       "1                                                Yes       \n",
       "2                                                NaN       \n",
       "3                                                Yes       \n",
       "4                                                Yes       \n",
       "\n",
       "  Has the call letter been shared Expected Attendance Observed Attendance  \\\n",
       "0                             Yes                 Yes                  No   \n",
       "1                             Yes                 Yes                  No   \n",
       "2                             NaN           Uncertain                  No   \n",
       "3                             Yes           Uncertain                  No   \n",
       "4                             Yes           Uncertain                  No   \n",
       "\n",
       "  Marital Status Unnamed: 23 Unnamed: 24 Unnamed: 25 Unnamed: 26 Unnamed: 27  \n",
       "0         Single         NaN         NaN         NaN         NaN         NaN  \n",
       "1         Single         NaN         NaN         NaN         NaN         NaN  \n",
       "2         Single         NaN         NaN         NaN         NaN         NaN  \n",
       "3         Single         NaN         NaN         NaN         NaN         NaN  \n",
       "4        Married         NaN         NaN         NaN         NaN         NaN  \n",
       "\n",
       "[5 rows x 28 columns]"
      ]
     },
     "execution_count": 2,
     "metadata": {},
     "output_type": "execute_result"
    }
   ],
   "source": [
    "df = pd.read_csv('Interview.csv')\n",
    "df.head()"
   ]
  },
  {
   "cell_type": "markdown",
   "metadata": {},
   "source": [
    "# Data Wrangling\n",
    "\n",
    "To make the journel more readable, we'll be splitting this section into four parts:\n",
    "\n",
    "* __[Time](#timetag)__ - Reformatting the time field to be consistent among all rows.\n",
    "* __[Useless columns](#columntag)__ - Remove columns that hold no information.\n",
    "* __[Retrieving all possible values for each field](#fieldtag)__ - A mini-EDA for our data.\n",
    "* __[Cleaning our dataset](#datatag)__ - Removing redundancy in our dataset."
   ]
  },
  {
   "cell_type": "markdown",
   "metadata": {},
   "source": [
    "## Time <a name=\"timetag\"></a>\n",
    "\n",
    "Let's first convert the dates into a usable format."
   ]
  },
  {
   "cell_type": "code",
   "execution_count": 3,
   "metadata": {
    "scrolled": true
   },
   "outputs": [
    {
     "name": "stdout",
     "output_type": "stream",
     "text": [
      "time data '25.05.16' does not match format '%d.%m.%Y' (match)\n"
     ]
    }
   ],
   "source": [
    "# If we don't run the code in a try block, jupyter will stop executing\n",
    "try:\n",
    "    pd.to_datetime(df[\"Date of Interview\"],format='%d.%m.%Y')\n",
    "except ValueError as e:\n",
    "    print(e)"
   ]
  },
  {
   "cell_type": "markdown",
   "metadata": {},
   "source": [
    "Notice that not all of our dates are in a consistent format.  Let's convert them to the format dd-mm-yyyy before converting."
   ]
  },
  {
   "cell_type": "code",
   "execution_count": 4,
   "metadata": {},
   "outputs": [
    {
     "data": {
      "text/html": [
       "<div>\n",
       "<style scoped>\n",
       "    .dataframe tbody tr th:only-of-type {\n",
       "        vertical-align: middle;\n",
       "    }\n",
       "\n",
       "    .dataframe tbody tr th {\n",
       "        vertical-align: top;\n",
       "    }\n",
       "\n",
       "    .dataframe thead th {\n",
       "        text-align: right;\n",
       "    }\n",
       "</style>\n",
       "<table border=\"1\" class=\"dataframe\">\n",
       "  <thead>\n",
       "    <tr style=\"text-align: right;\">\n",
       "      <th></th>\n",
       "      <th>Date of Interview</th>\n",
       "      <th>Client name</th>\n",
       "      <th>Industry</th>\n",
       "      <th>Location</th>\n",
       "      <th>Position to be closed</th>\n",
       "      <th>Nature of Skillset</th>\n",
       "      <th>Interview Type</th>\n",
       "      <th>Name(Cand ID)</th>\n",
       "      <th>Gender</th>\n",
       "      <th>Candidate Current Location</th>\n",
       "      <th>...</th>\n",
       "      <th>Are you clear with the venue details and the landmark.</th>\n",
       "      <th>Has the call letter been shared</th>\n",
       "      <th>Expected Attendance</th>\n",
       "      <th>Observed Attendance</th>\n",
       "      <th>Marital Status</th>\n",
       "      <th>Unnamed: 23</th>\n",
       "      <th>Unnamed: 24</th>\n",
       "      <th>Unnamed: 25</th>\n",
       "      <th>Unnamed: 26</th>\n",
       "      <th>Unnamed: 27</th>\n",
       "    </tr>\n",
       "  </thead>\n",
       "  <tbody>\n",
       "    <tr>\n",
       "      <th>0</th>\n",
       "      <td>2015-02-13</td>\n",
       "      <td>Hospira</td>\n",
       "      <td>Pharmaceuticals</td>\n",
       "      <td>Chennai</td>\n",
       "      <td>Production- Sterile</td>\n",
       "      <td>Routine</td>\n",
       "      <td>Scheduled Walkin</td>\n",
       "      <td>Candidate 1</td>\n",
       "      <td>Male</td>\n",
       "      <td>Chennai</td>\n",
       "      <td>...</td>\n",
       "      <td>Yes</td>\n",
       "      <td>Yes</td>\n",
       "      <td>Yes</td>\n",
       "      <td>No</td>\n",
       "      <td>Single</td>\n",
       "      <td>NaN</td>\n",
       "      <td>NaN</td>\n",
       "      <td>NaN</td>\n",
       "      <td>NaN</td>\n",
       "      <td>NaN</td>\n",
       "    </tr>\n",
       "    <tr>\n",
       "      <th>1</th>\n",
       "      <td>2015-02-13</td>\n",
       "      <td>Hospira</td>\n",
       "      <td>Pharmaceuticals</td>\n",
       "      <td>Chennai</td>\n",
       "      <td>Production- Sterile</td>\n",
       "      <td>Routine</td>\n",
       "      <td>Scheduled Walkin</td>\n",
       "      <td>Candidate 2</td>\n",
       "      <td>Male</td>\n",
       "      <td>Chennai</td>\n",
       "      <td>...</td>\n",
       "      <td>Yes</td>\n",
       "      <td>Yes</td>\n",
       "      <td>Yes</td>\n",
       "      <td>No</td>\n",
       "      <td>Single</td>\n",
       "      <td>NaN</td>\n",
       "      <td>NaN</td>\n",
       "      <td>NaN</td>\n",
       "      <td>NaN</td>\n",
       "      <td>NaN</td>\n",
       "    </tr>\n",
       "    <tr>\n",
       "      <th>2</th>\n",
       "      <td>2015-02-13</td>\n",
       "      <td>Hospira</td>\n",
       "      <td>Pharmaceuticals</td>\n",
       "      <td>Chennai</td>\n",
       "      <td>Production- Sterile</td>\n",
       "      <td>Routine</td>\n",
       "      <td>Scheduled Walkin</td>\n",
       "      <td>Candidate 3</td>\n",
       "      <td>Male</td>\n",
       "      <td>Chennai</td>\n",
       "      <td>...</td>\n",
       "      <td>NaN</td>\n",
       "      <td>NaN</td>\n",
       "      <td>Uncertain</td>\n",
       "      <td>No</td>\n",
       "      <td>Single</td>\n",
       "      <td>NaN</td>\n",
       "      <td>NaN</td>\n",
       "      <td>NaN</td>\n",
       "      <td>NaN</td>\n",
       "      <td>NaN</td>\n",
       "    </tr>\n",
       "    <tr>\n",
       "      <th>3</th>\n",
       "      <td>2015-02-13</td>\n",
       "      <td>Hospira</td>\n",
       "      <td>Pharmaceuticals</td>\n",
       "      <td>Chennai</td>\n",
       "      <td>Production- Sterile</td>\n",
       "      <td>Routine</td>\n",
       "      <td>Scheduled Walkin</td>\n",
       "      <td>Candidate 4</td>\n",
       "      <td>Male</td>\n",
       "      <td>Chennai</td>\n",
       "      <td>...</td>\n",
       "      <td>Yes</td>\n",
       "      <td>Yes</td>\n",
       "      <td>Uncertain</td>\n",
       "      <td>No</td>\n",
       "      <td>Single</td>\n",
       "      <td>NaN</td>\n",
       "      <td>NaN</td>\n",
       "      <td>NaN</td>\n",
       "      <td>NaN</td>\n",
       "      <td>NaN</td>\n",
       "    </tr>\n",
       "    <tr>\n",
       "      <th>4</th>\n",
       "      <td>2015-02-13</td>\n",
       "      <td>Hospira</td>\n",
       "      <td>Pharmaceuticals</td>\n",
       "      <td>Chennai</td>\n",
       "      <td>Production- Sterile</td>\n",
       "      <td>Routine</td>\n",
       "      <td>Scheduled Walkin</td>\n",
       "      <td>Candidate 5</td>\n",
       "      <td>Male</td>\n",
       "      <td>Chennai</td>\n",
       "      <td>...</td>\n",
       "      <td>Yes</td>\n",
       "      <td>Yes</td>\n",
       "      <td>Uncertain</td>\n",
       "      <td>No</td>\n",
       "      <td>Married</td>\n",
       "      <td>NaN</td>\n",
       "      <td>NaN</td>\n",
       "      <td>NaN</td>\n",
       "      <td>NaN</td>\n",
       "      <td>NaN</td>\n",
       "    </tr>\n",
       "  </tbody>\n",
       "</table>\n",
       "<p>5 rows × 28 columns</p>\n",
       "</div>"
      ],
      "text/plain": [
       "  Date of Interview Client name         Industry Location  \\\n",
       "0        2015-02-13     Hospira  Pharmaceuticals  Chennai   \n",
       "1        2015-02-13     Hospira  Pharmaceuticals  Chennai   \n",
       "2        2015-02-13     Hospira  Pharmaceuticals  Chennai   \n",
       "3        2015-02-13     Hospira  Pharmaceuticals  Chennai   \n",
       "4        2015-02-13     Hospira  Pharmaceuticals  Chennai   \n",
       "\n",
       "  Position to be closed Nature of Skillset    Interview Type Name(Cand ID)  \\\n",
       "0   Production- Sterile            Routine  Scheduled Walkin   Candidate 1   \n",
       "1   Production- Sterile            Routine  Scheduled Walkin   Candidate 2   \n",
       "2   Production- Sterile            Routine  Scheduled Walkin   Candidate 3   \n",
       "3   Production- Sterile            Routine  Scheduled Walkin   Candidate 4   \n",
       "4   Production- Sterile            Routine  Scheduled Walkin   Candidate 5   \n",
       "\n",
       "  Gender Candidate Current Location     ...      \\\n",
       "0   Male                    Chennai     ...       \n",
       "1   Male                    Chennai     ...       \n",
       "2   Male                    Chennai     ...       \n",
       "3   Male                    Chennai     ...       \n",
       "4   Male                    Chennai     ...       \n",
       "\n",
       "  Are you clear with the venue details and the landmark.  \\\n",
       "0                                                Yes       \n",
       "1                                                Yes       \n",
       "2                                                NaN       \n",
       "3                                                Yes       \n",
       "4                                                Yes       \n",
       "\n",
       "  Has the call letter been shared Expected Attendance Observed Attendance  \\\n",
       "0                             Yes                 Yes                  No   \n",
       "1                             Yes                 Yes                  No   \n",
       "2                             NaN           Uncertain                  No   \n",
       "3                             Yes           Uncertain                  No   \n",
       "4                             Yes           Uncertain                  No   \n",
       "\n",
       "  Marital Status Unnamed: 23 Unnamed: 24 Unnamed: 25 Unnamed: 26 Unnamed: 27  \n",
       "0         Single         NaN         NaN         NaN         NaN         NaN  \n",
       "1         Single         NaN         NaN         NaN         NaN         NaN  \n",
       "2         Single         NaN         NaN         NaN         NaN         NaN  \n",
       "3         Single         NaN         NaN         NaN         NaN         NaN  \n",
       "4        Married         NaN         NaN         NaN         NaN         NaN  \n",
       "\n",
       "[5 rows x 28 columns]"
      ]
     },
     "execution_count": 4,
     "metadata": {},
     "output_type": "execute_result"
    }
   ],
   "source": [
    "df[\"Date of Interview\"] = df[\"Date of Interview\"].str.replace(\".\",\"-\")\n",
    "\n",
    "# Extract the year and add 20 to the beginning of each string\n",
    "# We only need to extract the last four digits.\n",
    "tmp = df[\"Date of Interview\"].str.extract(\".*-(\\d+)\", expand=False)\n",
    "tmp = np.array([(\"20\" + date)[-4:] if type(date) == str else date for date in tmp ])\n",
    "# Remodify the Series\n",
    "df[\"Date of Interview\"] = df[\"Date of Interview\"].str.extract(\"(\\d+-\\d+-)\\d+\", expand=False) + tmp\n",
    "\n",
    "# Now do the conversion\n",
    "df[\"Date of Interview\"] = pd.to_datetime(df[\"Date of Interview\"],format=\"%d-%m-%Y\")\n",
    "df.head()"
   ]
  },
  {
   "cell_type": "markdown",
   "metadata": {},
   "source": [
    "## Useless columns <a name=\"columntag\"></a>\n",
    "\n",
    "I notice that there are few additional columns (Unnamed: 23-27) that were accidentally added.  Let's remove these columns"
   ]
  },
  {
   "cell_type": "code",
   "execution_count": 5,
   "metadata": {},
   "outputs": [
    {
     "name": "stdout",
     "output_type": "stream",
     "text": [
      "1234\n"
     ]
    },
    {
     "data": {
      "text/html": [
       "<div>\n",
       "<style scoped>\n",
       "    .dataframe tbody tr th:only-of-type {\n",
       "        vertical-align: middle;\n",
       "    }\n",
       "\n",
       "    .dataframe tbody tr th {\n",
       "        vertical-align: top;\n",
       "    }\n",
       "\n",
       "    .dataframe thead th {\n",
       "        text-align: right;\n",
       "    }\n",
       "</style>\n",
       "<table border=\"1\" class=\"dataframe\">\n",
       "  <thead>\n",
       "    <tr style=\"text-align: right;\">\n",
       "      <th></th>\n",
       "      <th>Date of Interview</th>\n",
       "      <th>Client name</th>\n",
       "      <th>Industry</th>\n",
       "      <th>Location</th>\n",
       "      <th>Position to be closed</th>\n",
       "      <th>Nature of Skillset</th>\n",
       "      <th>Interview Type</th>\n",
       "      <th>Name(Cand ID)</th>\n",
       "      <th>Gender</th>\n",
       "      <th>Candidate Current Location</th>\n",
       "      <th>...</th>\n",
       "      <th>Have you obtained the necessary permission to start at the required time</th>\n",
       "      <th>Hope there will be no unscheduled meetings</th>\n",
       "      <th>Can I Call you three hours before the interview and follow up on your attendance for the interview</th>\n",
       "      <th>Can I have an alternative number/ desk number. I assure you that I will not trouble you too much</th>\n",
       "      <th>Have you taken a printout of your updated resume. Have you read the JD and understood the same</th>\n",
       "      <th>Are you clear with the venue details and the landmark.</th>\n",
       "      <th>Has the call letter been shared</th>\n",
       "      <th>Expected Attendance</th>\n",
       "      <th>Observed Attendance</th>\n",
       "      <th>Marital Status</th>\n",
       "    </tr>\n",
       "  </thead>\n",
       "  <tbody>\n",
       "    <tr>\n",
       "      <th>0</th>\n",
       "      <td>2015-02-13</td>\n",
       "      <td>Hospira</td>\n",
       "      <td>Pharmaceuticals</td>\n",
       "      <td>Chennai</td>\n",
       "      <td>Production- Sterile</td>\n",
       "      <td>Routine</td>\n",
       "      <td>Scheduled Walkin</td>\n",
       "      <td>Candidate 1</td>\n",
       "      <td>Male</td>\n",
       "      <td>Chennai</td>\n",
       "      <td>...</td>\n",
       "      <td>Yes</td>\n",
       "      <td>Yes</td>\n",
       "      <td>Yes</td>\n",
       "      <td>Yes</td>\n",
       "      <td>Yes</td>\n",
       "      <td>Yes</td>\n",
       "      <td>Yes</td>\n",
       "      <td>Yes</td>\n",
       "      <td>No</td>\n",
       "      <td>Single</td>\n",
       "    </tr>\n",
       "    <tr>\n",
       "      <th>1</th>\n",
       "      <td>2015-02-13</td>\n",
       "      <td>Hospira</td>\n",
       "      <td>Pharmaceuticals</td>\n",
       "      <td>Chennai</td>\n",
       "      <td>Production- Sterile</td>\n",
       "      <td>Routine</td>\n",
       "      <td>Scheduled Walkin</td>\n",
       "      <td>Candidate 2</td>\n",
       "      <td>Male</td>\n",
       "      <td>Chennai</td>\n",
       "      <td>...</td>\n",
       "      <td>Yes</td>\n",
       "      <td>Yes</td>\n",
       "      <td>Yes</td>\n",
       "      <td>Yes</td>\n",
       "      <td>Yes</td>\n",
       "      <td>Yes</td>\n",
       "      <td>Yes</td>\n",
       "      <td>Yes</td>\n",
       "      <td>No</td>\n",
       "      <td>Single</td>\n",
       "    </tr>\n",
       "    <tr>\n",
       "      <th>2</th>\n",
       "      <td>2015-02-13</td>\n",
       "      <td>Hospira</td>\n",
       "      <td>Pharmaceuticals</td>\n",
       "      <td>Chennai</td>\n",
       "      <td>Production- Sterile</td>\n",
       "      <td>Routine</td>\n",
       "      <td>Scheduled Walkin</td>\n",
       "      <td>Candidate 3</td>\n",
       "      <td>Male</td>\n",
       "      <td>Chennai</td>\n",
       "      <td>...</td>\n",
       "      <td>NaN</td>\n",
       "      <td>Na</td>\n",
       "      <td>NaN</td>\n",
       "      <td>NaN</td>\n",
       "      <td>NaN</td>\n",
       "      <td>NaN</td>\n",
       "      <td>NaN</td>\n",
       "      <td>Uncertain</td>\n",
       "      <td>No</td>\n",
       "      <td>Single</td>\n",
       "    </tr>\n",
       "    <tr>\n",
       "      <th>3</th>\n",
       "      <td>2015-02-13</td>\n",
       "      <td>Hospira</td>\n",
       "      <td>Pharmaceuticals</td>\n",
       "      <td>Chennai</td>\n",
       "      <td>Production- Sterile</td>\n",
       "      <td>Routine</td>\n",
       "      <td>Scheduled Walkin</td>\n",
       "      <td>Candidate 4</td>\n",
       "      <td>Male</td>\n",
       "      <td>Chennai</td>\n",
       "      <td>...</td>\n",
       "      <td>Yes</td>\n",
       "      <td>Yes</td>\n",
       "      <td>No</td>\n",
       "      <td>Yes</td>\n",
       "      <td>No</td>\n",
       "      <td>Yes</td>\n",
       "      <td>Yes</td>\n",
       "      <td>Uncertain</td>\n",
       "      <td>No</td>\n",
       "      <td>Single</td>\n",
       "    </tr>\n",
       "    <tr>\n",
       "      <th>4</th>\n",
       "      <td>2015-02-13</td>\n",
       "      <td>Hospira</td>\n",
       "      <td>Pharmaceuticals</td>\n",
       "      <td>Chennai</td>\n",
       "      <td>Production- Sterile</td>\n",
       "      <td>Routine</td>\n",
       "      <td>Scheduled Walkin</td>\n",
       "      <td>Candidate 5</td>\n",
       "      <td>Male</td>\n",
       "      <td>Chennai</td>\n",
       "      <td>...</td>\n",
       "      <td>Yes</td>\n",
       "      <td>Yes</td>\n",
       "      <td>Yes</td>\n",
       "      <td>No</td>\n",
       "      <td>Yes</td>\n",
       "      <td>Yes</td>\n",
       "      <td>Yes</td>\n",
       "      <td>Uncertain</td>\n",
       "      <td>No</td>\n",
       "      <td>Married</td>\n",
       "    </tr>\n",
       "  </tbody>\n",
       "</table>\n",
       "<p>5 rows × 23 columns</p>\n",
       "</div>"
      ],
      "text/plain": [
       "  Date of Interview Client name         Industry Location  \\\n",
       "0        2015-02-13     Hospira  Pharmaceuticals  Chennai   \n",
       "1        2015-02-13     Hospira  Pharmaceuticals  Chennai   \n",
       "2        2015-02-13     Hospira  Pharmaceuticals  Chennai   \n",
       "3        2015-02-13     Hospira  Pharmaceuticals  Chennai   \n",
       "4        2015-02-13     Hospira  Pharmaceuticals  Chennai   \n",
       "\n",
       "  Position to be closed Nature of Skillset    Interview Type Name(Cand ID)  \\\n",
       "0   Production- Sterile            Routine  Scheduled Walkin   Candidate 1   \n",
       "1   Production- Sterile            Routine  Scheduled Walkin   Candidate 2   \n",
       "2   Production- Sterile            Routine  Scheduled Walkin   Candidate 3   \n",
       "3   Production- Sterile            Routine  Scheduled Walkin   Candidate 4   \n",
       "4   Production- Sterile            Routine  Scheduled Walkin   Candidate 5   \n",
       "\n",
       "  Gender Candidate Current Location      ...        \\\n",
       "0   Male                    Chennai      ...         \n",
       "1   Male                    Chennai      ...         \n",
       "2   Male                    Chennai      ...         \n",
       "3   Male                    Chennai      ...         \n",
       "4   Male                    Chennai      ...         \n",
       "\n",
       "  Have you obtained the necessary permission to start at the required time  \\\n",
       "0                                                Yes                         \n",
       "1                                                Yes                         \n",
       "2                                                NaN                         \n",
       "3                                                Yes                         \n",
       "4                                                Yes                         \n",
       "\n",
       "  Hope there will be no unscheduled meetings  \\\n",
       "0                                        Yes   \n",
       "1                                        Yes   \n",
       "2                                         Na   \n",
       "3                                        Yes   \n",
       "4                                        Yes   \n",
       "\n",
       "  Can I Call you three hours before the interview and follow up on your attendance for the interview  \\\n",
       "0                                                Yes                                                   \n",
       "1                                                Yes                                                   \n",
       "2                                                NaN                                                   \n",
       "3                                                 No                                                   \n",
       "4                                                Yes                                                   \n",
       "\n",
       "  Can I have an alternative number/ desk number. I assure you that I will not trouble you too much  \\\n",
       "0                                                Yes                                                 \n",
       "1                                                Yes                                                 \n",
       "2                                                NaN                                                 \n",
       "3                                                Yes                                                 \n",
       "4                                                 No                                                 \n",
       "\n",
       "  Have you taken a printout of your updated resume. Have you read the JD and understood the same  \\\n",
       "0                                                Yes                                               \n",
       "1                                                Yes                                               \n",
       "2                                                NaN                                               \n",
       "3                                                 No                                               \n",
       "4                                                Yes                                               \n",
       "\n",
       "  Are you clear with the venue details and the landmark.  \\\n",
       "0                                                Yes       \n",
       "1                                                Yes       \n",
       "2                                                NaN       \n",
       "3                                                Yes       \n",
       "4                                                Yes       \n",
       "\n",
       "  Has the call letter been shared Expected Attendance Observed Attendance  \\\n",
       "0                             Yes                 Yes                  No   \n",
       "1                             Yes                 Yes                  No   \n",
       "2                             NaN           Uncertain                  No   \n",
       "3                             Yes           Uncertain                  No   \n",
       "4                             Yes           Uncertain                  No   \n",
       "\n",
       "  Marital Status  \n",
       "0         Single  \n",
       "1         Single  \n",
       "2         Single  \n",
       "3         Single  \n",
       "4        Married  \n",
       "\n",
       "[5 rows x 23 columns]"
      ]
     },
     "execution_count": 5,
     "metadata": {},
     "output_type": "execute_result"
    }
   ],
   "source": [
    "retainColumns = df.columns.values[:-5]\n",
    "\n",
    "# This is to prevent removing useful columns\n",
    "if len(retainColumns) == 23:\n",
    "    df = df[retainColumns]\n",
    "    \n",
    "print(len(df))\n",
    "df.head()"
   ]
  },
  {
   "cell_type": "markdown",
   "metadata": {},
   "source": [
    "## Retrieving all possible values for each field <a name=\"fieldtag\"></a>\n",
    "\n",
    "Let's look at our other fields to get a gist on what our dataset contains.  First, we will display the first limited number of unique values for each column."
   ]
  },
  {
   "cell_type": "code",
   "execution_count": 6,
   "metadata": {},
   "outputs": [
    {
     "name": "stdout",
     "output_type": "stream",
     "text": [
      "Column Client name contains values:\n",
      "\t *Hospira\n",
      "\t *Aon Hewitt\n",
      "\t *UST\n",
      "\t *Standard Chartered Bank\n",
      "\t *ANZ\n",
      "\t *Pfizer\n",
      "\t *Standard Chartered Bank Chennai\n",
      "\t *Aon hewitt Gurgaon\n",
      "\t *Astrazeneca\n",
      "\t *Flextronics\n",
      "Column Industry contains values:\n",
      "\t *Pharmaceuticals\n",
      "\t *IT Services\n",
      "\t *BFSI\n",
      "\t *IT Products and Services\n",
      "\t *Electronics\n",
      "\t *Telecom\n",
      "\t *IT\n",
      "\t *nan\n",
      "Column Location contains values:\n",
      "\t *Chennai\n",
      "\t *Gurgaon\n",
      "\t *Bangalore\n",
      "\t *Hyderabad\n",
      "\t *Gurgaonr\n",
      "\t *Delhi\n",
      "\t *chennai\n",
      "\t *- Cochin- \n",
      "\t *Noida\n",
      "\t *CHENNAI\n",
      "Column Position to be closed contains values:\n",
      "\t *Production- Sterile\n",
      "\t *Selenium testing\n",
      "\t *Dot Net\n",
      "\t *AML\n",
      "\t *Trade Finance\n",
      "\t *Routine\n",
      "\t *Niche\n",
      "\t *nan\n",
      "Column Nature of Skillset contains values:\n",
      "\t *Routine\n",
      "\t *Oracle\n",
      "\t *Accounting Operations\n",
      "\t *Banking Operations\n",
      "\t *Fresher\n",
      "\t *AML/KYC/CDD\n",
      "\t *CDD KYC\n",
      "\t *Biosimiliars\n",
      "\t *RA Label\n",
      "\t *RA Publishing\n",
      "Column Interview Type contains values:\n",
      "\t *Scheduled Walkin\n",
      "\t *Scheduled \n",
      "\t *Walkin\n",
      "\t *Scheduled Walk In\n",
      "\t *Sceduled walkin\n",
      "\t *Walkin \n",
      "\t *nan\n",
      "Column Name(Cand ID) contains values:\n",
      "\t *Candidate 1\n",
      "\t *Candidate 2\n",
      "\t *Candidate 3\n",
      "\t *Candidate 4\n",
      "\t *Candidate 5\n",
      "\t *Candidate 6\n",
      "\t *Candidate 7\n",
      "\t *Candidate 8\n",
      "\t *Candidate 9\n",
      "\t *Candidate 10\n",
      "Column Gender contains values:\n",
      "\t *Male\n",
      "\t *Female\n",
      "\t *nan\n",
      "Column Candidate Current Location contains values:\n",
      "\t *Chennai\n",
      "\t *Gurgaon\n",
      "\t *Bangalore\n",
      "\t *Hyderabad\n",
      "\t *Delhi\n",
      "\t *chennai\n",
      "\t *- Cochin- \n",
      "\t *Noida\n",
      "\t *CHENNAI\n",
      "\t *chennai \n",
      "Column Candidate Job Location contains values:\n",
      "\t *Hosur\n",
      "\t *Bangalore\n",
      "\t *Chennai\n",
      "\t *Gurgaon\n",
      "\t *Visakapatinam\n",
      "\t *- Cochin- \n",
      "\t *Noida\n",
      "\t *nan\n",
      "Column Interview Venue contains values:\n",
      "\t *Hosur\n",
      "\t *Gurgaon\n",
      "\t *Bangalore\n",
      "\t *Chennai\n",
      "\t *Hyderabad\n",
      "\t *- Cochin- \n",
      "\t *Noida\n",
      "\t *nan\n",
      "Column Candidate Native location contains values:\n",
      "\t *Hosur\n",
      "\t *Trichy\n",
      "\t *Chennai\n",
      "\t *Gurgaon\n",
      "\t *Noida\n",
      "\t *Delhi /NCR\n",
      "\t *Cochin\n",
      "\t *Trivandrum\n",
      "\t *Bangalore\n",
      "\t *Coimbatore\n",
      "Column Have you obtained the necessary permission to start at the required time contains values:\n",
      "\t *Yes\n",
      "\t *nan\n",
      "\t *No\n",
      "\t *Not yet\n",
      "\t *Yet to confirm\n",
      "\t *NO\n",
      "\t *yes\n",
      "\t *Na\n",
      "Column Hope there will be no unscheduled meetings contains values:\n",
      "\t *Yes\n",
      "\t *Na\n",
      "\t *No\n",
      "\t *nan\n",
      "\t *yes\n",
      "\t *Not Sure\n",
      "\t *cant Say\n",
      "\t *Not sure\n",
      "Column Can I Call you three hours before the interview and follow up on your attendance for the interview contains values:\n",
      "\t *Yes\n",
      "\t *nan\n",
      "\t *No\n",
      "\t *No Dont\n",
      "\t *Na\n",
      "\t *yes\n",
      "Column Can I have an alternative number/ desk number. I assure you that I will not trouble you too much contains values:\n",
      "\t *Yes\n",
      "\t *nan\n",
      "\t *No\n",
      "\t *No I have only thi number\n",
      "\t *na\n",
      "\t *yes\n",
      "\t *Na\n",
      "Column Have you taken a printout of your updated resume. Have you read the JD and understood the same contains values:\n",
      "\t *Yes\n",
      "\t *nan\n",
      "\t *No\n",
      "\t *No- will take it soon\n",
      "\t *Not yet\n",
      "\t *na\n",
      "\t *yes\n",
      "\t *Na\n",
      "\t *Not Yet\n",
      "Column Are you clear with the venue details and the landmark. contains values:\n",
      "\t *Yes\n",
      "\t *nan\n",
      "\t *No\n",
      "\t *No- I need to check\n",
      "\t *na\n",
      "\t *yes\n",
      "\t *Na\n",
      "\t *no\n",
      "Column Has the call letter been shared contains values:\n",
      "\t *Yes\n",
      "\t *nan\n",
      "\t *Havent Checked\n",
      "\t *No\n",
      "\t *Need To Check\n",
      "\t *Not sure\n",
      "\t *Yet to Check\n",
      "\t *Not Sure\n",
      "\t *Not yet\n",
      "\t *no\n",
      "Column Expected Attendance contains values:\n",
      "\t *Yes\n",
      "\t *Uncertain\n",
      "\t *No\n",
      "\t *NO\n",
      "\t *yes\n",
      "\t *nan\n",
      "\t *11:00 AM\n",
      "\t *10.30 Am\n",
      "Column Observed Attendance contains values:\n",
      "\t *No\n",
      "\t *Yes\n",
      "\t *yes\n",
      "\t *no\n",
      "\t *yes \n",
      "\t *No \n",
      "\t *NO\n",
      "\t *no \n",
      "\t *nan\n",
      "Column Marital Status contains values:\n",
      "\t *Single\n",
      "\t *Married\n",
      "\t *nan\n"
     ]
    }
   ],
   "source": [
    "def getUniqueValueFormatter(column, limit = 10):\n",
    "    values = df[column].unique()\n",
    "    # Make sure that there the limit is capped at the max number of unique values\n",
    "    if limit > len(values):\n",
    "        limit = len(values)\n",
    "    if len(values) > limit:\n",
    "        values = values[:limit]\n",
    "    print(\"Column {} contains values:\".format(column))\n",
    "    for value in values:\n",
    "        print(\"\\t *{}\".format(value))\n",
    "\n",
    "for column in df.columns[1:]:\n",
    "    getUniqueValueFormatter(column)"
   ]
  },
  {
   "cell_type": "markdown",
   "metadata": {},
   "source": [
    "We notice that there is always at least one record containing nan for a column.  Let's see how many missing values we have for each column."
   ]
  },
  {
   "cell_type": "code",
   "execution_count": 7,
   "metadata": {
    "scrolled": true
   },
   "outputs": [
    {
     "name": "stdout",
     "output_type": "stream",
     "text": [
      "0 record(s) missing for column Client name\n",
      "1 record(s) missing for column Industry\n",
      "1 record(s) missing for column Location\n",
      "1 record(s) missing for column Position to be closed\n",
      "1 record(s) missing for column Nature of Skillset\n",
      "1 record(s) missing for column Interview Type\n",
      "1 record(s) missing for column Name(Cand ID)\n",
      "1 record(s) missing for column Gender\n",
      "1 record(s) missing for column Candidate Current Location\n",
      "1 record(s) missing for column Candidate Job Location\n",
      "1 record(s) missing for column Interview Venue\n",
      "1 record(s) missing for column Candidate Native location\n",
      "205 record(s) missing for column Have you obtained the necessary permission to start at the required time\n",
      "248 record(s) missing for column Hope there will be no unscheduled meetings\n",
      "248 record(s) missing for column Can I Call you three hours before the interview and follow up on your attendance for the interview\n",
      "248 record(s) missing for column Can I have an alternative number/ desk number. I assure you that I will not trouble you too much\n",
      "249 record(s) missing for column Have you taken a printout of your updated resume. Have you read the JD and understood the same\n",
      "249 record(s) missing for column Are you clear with the venue details and the landmark.\n",
      "246 record(s) missing for column Has the call letter been shared\n",
      "6 record(s) missing for column Expected Attendance\n",
      "1 record(s) missing for column Observed Attendance\n",
      "1 record(s) missing for column Marital Status\n"
     ]
    }
   ],
   "source": [
    "for column in df.columns[1:]:\n",
    "    print(\"{} record(s) missing for column {}\".format(df[column].isnull().sum(), column))"
   ]
  },
  {
   "cell_type": "markdown",
   "metadata": {},
   "source": [
    "Upon looking at the data, we notice that there is always at least one value missing for each column.  For the column with no information missing, there is at least one instance where there is some garbage data.\n",
    "\n",
    "Additionally, there's always a unqiue value associated with the column Name(Cand ID).  While the column is useless due to already having an index, there is one instance with missing data.  With this information, I speculate that there is a bad record in the dataset.\n",
    "\n",
    "Let's query the last three records of the dataset:"
   ]
  },
  {
   "cell_type": "code",
   "execution_count": 8,
   "metadata": {},
   "outputs": [
    {
     "data": {
      "text/html": [
       "<div>\n",
       "<style scoped>\n",
       "    .dataframe tbody tr th:only-of-type {\n",
       "        vertical-align: middle;\n",
       "    }\n",
       "\n",
       "    .dataframe tbody tr th {\n",
       "        vertical-align: top;\n",
       "    }\n",
       "\n",
       "    .dataframe thead th {\n",
       "        text-align: right;\n",
       "    }\n",
       "</style>\n",
       "<table border=\"1\" class=\"dataframe\">\n",
       "  <thead>\n",
       "    <tr style=\"text-align: right;\">\n",
       "      <th></th>\n",
       "      <th>Date of Interview</th>\n",
       "      <th>Client name</th>\n",
       "      <th>Industry</th>\n",
       "      <th>Location</th>\n",
       "      <th>Position to be closed</th>\n",
       "      <th>Nature of Skillset</th>\n",
       "      <th>Interview Type</th>\n",
       "      <th>Name(Cand ID)</th>\n",
       "      <th>Gender</th>\n",
       "      <th>Candidate Current Location</th>\n",
       "      <th>...</th>\n",
       "      <th>Have you obtained the necessary permission to start at the required time</th>\n",
       "      <th>Hope there will be no unscheduled meetings</th>\n",
       "      <th>Can I Call you three hours before the interview and follow up on your attendance for the interview</th>\n",
       "      <th>Can I have an alternative number/ desk number. I assure you that I will not trouble you too much</th>\n",
       "      <th>Have you taken a printout of your updated resume. Have you read the JD and understood the same</th>\n",
       "      <th>Are you clear with the venue details and the landmark.</th>\n",
       "      <th>Has the call letter been shared</th>\n",
       "      <th>Expected Attendance</th>\n",
       "      <th>Observed Attendance</th>\n",
       "      <th>Marital Status</th>\n",
       "    </tr>\n",
       "  </thead>\n",
       "  <tbody>\n",
       "    <tr>\n",
       "      <th>1231</th>\n",
       "      <td>2016-05-06</td>\n",
       "      <td>Pfizer</td>\n",
       "      <td>Pharmaceuticals</td>\n",
       "      <td>Chennai</td>\n",
       "      <td>Niche</td>\n",
       "      <td>generic drugs – RA</td>\n",
       "      <td>Scheduled</td>\n",
       "      <td>Candidate 1232</td>\n",
       "      <td>Male</td>\n",
       "      <td>Chennai</td>\n",
       "      <td>...</td>\n",
       "      <td>Yes</td>\n",
       "      <td>Yes</td>\n",
       "      <td>Yes</td>\n",
       "      <td>Yes</td>\n",
       "      <td>Yes</td>\n",
       "      <td>Yes</td>\n",
       "      <td>Yes</td>\n",
       "      <td>Yes</td>\n",
       "      <td>Yes</td>\n",
       "      <td>Single</td>\n",
       "    </tr>\n",
       "    <tr>\n",
       "      <th>1232</th>\n",
       "      <td>2016-05-06</td>\n",
       "      <td>Pfizer</td>\n",
       "      <td>Pharmaceuticals</td>\n",
       "      <td>Chennai</td>\n",
       "      <td>Niche</td>\n",
       "      <td>generic drugs – RA</td>\n",
       "      <td>Scheduled</td>\n",
       "      <td>Candidate 1233</td>\n",
       "      <td>Female</td>\n",
       "      <td>Chennai</td>\n",
       "      <td>...</td>\n",
       "      <td>NaN</td>\n",
       "      <td>NaN</td>\n",
       "      <td>NaN</td>\n",
       "      <td>NaN</td>\n",
       "      <td>NaN</td>\n",
       "      <td>NaN</td>\n",
       "      <td>NaN</td>\n",
       "      <td>Uncertain</td>\n",
       "      <td>Yes</td>\n",
       "      <td>Single</td>\n",
       "    </tr>\n",
       "    <tr>\n",
       "      <th>1233</th>\n",
       "      <td>NaT</td>\n",
       "      <td>﻿﻿</td>\n",
       "      <td>NaN</td>\n",
       "      <td>NaN</td>\n",
       "      <td>NaN</td>\n",
       "      <td>NaN</td>\n",
       "      <td>NaN</td>\n",
       "      <td>NaN</td>\n",
       "      <td>NaN</td>\n",
       "      <td>NaN</td>\n",
       "      <td>...</td>\n",
       "      <td>NaN</td>\n",
       "      <td>NaN</td>\n",
       "      <td>NaN</td>\n",
       "      <td>NaN</td>\n",
       "      <td>NaN</td>\n",
       "      <td>NaN</td>\n",
       "      <td>NaN</td>\n",
       "      <td>NaN</td>\n",
       "      <td>NaN</td>\n",
       "      <td>NaN</td>\n",
       "    </tr>\n",
       "  </tbody>\n",
       "</table>\n",
       "<p>3 rows × 23 columns</p>\n",
       "</div>"
      ],
      "text/plain": [
       "     Date of Interview Client name         Industry Location  \\\n",
       "1231        2016-05-06      Pfizer  Pharmaceuticals  Chennai   \n",
       "1232        2016-05-06      Pfizer  Pharmaceuticals  Chennai   \n",
       "1233               NaT          ﻿﻿              NaN      NaN   \n",
       "\n",
       "     Position to be closed  Nature of Skillset Interview Type   Name(Cand ID)  \\\n",
       "1231                 Niche  generic drugs – RA     Scheduled   Candidate 1232   \n",
       "1232                 Niche  generic drugs – RA     Scheduled   Candidate 1233   \n",
       "1233                   NaN                 NaN            NaN             NaN   \n",
       "\n",
       "      Gender Candidate Current Location      ...        \\\n",
       "1231    Male                    Chennai      ...         \n",
       "1232  Female                    Chennai      ...         \n",
       "1233     NaN                        NaN      ...         \n",
       "\n",
       "     Have you obtained the necessary permission to start at the required time  \\\n",
       "1231                                                Yes                         \n",
       "1232                                                NaN                         \n",
       "1233                                                NaN                         \n",
       "\n",
       "     Hope there will be no unscheduled meetings  \\\n",
       "1231                                        Yes   \n",
       "1232                                        NaN   \n",
       "1233                                        NaN   \n",
       "\n",
       "     Can I Call you three hours before the interview and follow up on your attendance for the interview  \\\n",
       "1231                                                Yes                                                   \n",
       "1232                                                NaN                                                   \n",
       "1233                                                NaN                                                   \n",
       "\n",
       "     Can I have an alternative number/ desk number. I assure you that I will not trouble you too much  \\\n",
       "1231                                                Yes                                                 \n",
       "1232                                                NaN                                                 \n",
       "1233                                                NaN                                                 \n",
       "\n",
       "     Have you taken a printout of your updated resume. Have you read the JD and understood the same  \\\n",
       "1231                                                Yes                                               \n",
       "1232                                                NaN                                               \n",
       "1233                                                NaN                                               \n",
       "\n",
       "     Are you clear with the venue details and the landmark.  \\\n",
       "1231                                                Yes       \n",
       "1232                                                NaN       \n",
       "1233                                                NaN       \n",
       "\n",
       "     Has the call letter been shared Expected Attendance Observed Attendance  \\\n",
       "1231                             Yes                 Yes                 Yes   \n",
       "1232                             NaN           Uncertain                 Yes   \n",
       "1233                             NaN                 NaN                 NaN   \n",
       "\n",
       "     Marital Status  \n",
       "1231         Single  \n",
       "1232         Single  \n",
       "1233            NaN  \n",
       "\n",
       "[3 rows x 23 columns]"
      ]
     },
     "execution_count": 8,
     "metadata": {},
     "output_type": "execute_result"
    }
   ],
   "source": [
    "df.tail(3)"
   ]
  },
  {
   "cell_type": "markdown",
   "metadata": {},
   "source": [
    "My speculation was correct.  The very last record is worthless.  Let's remove the record."
   ]
  },
  {
   "cell_type": "code",
   "execution_count": 9,
   "metadata": {},
   "outputs": [
    {
     "data": {
      "text/html": [
       "<div>\n",
       "<style scoped>\n",
       "    .dataframe tbody tr th:only-of-type {\n",
       "        vertical-align: middle;\n",
       "    }\n",
       "\n",
       "    .dataframe tbody tr th {\n",
       "        vertical-align: top;\n",
       "    }\n",
       "\n",
       "    .dataframe thead th {\n",
       "        text-align: right;\n",
       "    }\n",
       "</style>\n",
       "<table border=\"1\" class=\"dataframe\">\n",
       "  <thead>\n",
       "    <tr style=\"text-align: right;\">\n",
       "      <th></th>\n",
       "      <th>Date of Interview</th>\n",
       "      <th>Client name</th>\n",
       "      <th>Industry</th>\n",
       "      <th>Location</th>\n",
       "      <th>Position to be closed</th>\n",
       "      <th>Nature of Skillset</th>\n",
       "      <th>Interview Type</th>\n",
       "      <th>Name(Cand ID)</th>\n",
       "      <th>Gender</th>\n",
       "      <th>Candidate Current Location</th>\n",
       "      <th>...</th>\n",
       "      <th>Have you obtained the necessary permission to start at the required time</th>\n",
       "      <th>Hope there will be no unscheduled meetings</th>\n",
       "      <th>Can I Call you three hours before the interview and follow up on your attendance for the interview</th>\n",
       "      <th>Can I have an alternative number/ desk number. I assure you that I will not trouble you too much</th>\n",
       "      <th>Have you taken a printout of your updated resume. Have you read the JD and understood the same</th>\n",
       "      <th>Are you clear with the venue details and the landmark.</th>\n",
       "      <th>Has the call letter been shared</th>\n",
       "      <th>Expected Attendance</th>\n",
       "      <th>Observed Attendance</th>\n",
       "      <th>Marital Status</th>\n",
       "    </tr>\n",
       "  </thead>\n",
       "  <tbody>\n",
       "    <tr>\n",
       "      <th>1230</th>\n",
       "      <td>2016-05-06</td>\n",
       "      <td>Pfizer</td>\n",
       "      <td>Pharmaceuticals</td>\n",
       "      <td>Chennai</td>\n",
       "      <td>Niche</td>\n",
       "      <td>Biosimiliars</td>\n",
       "      <td>Scheduled</td>\n",
       "      <td>Candidate 1231</td>\n",
       "      <td>Male</td>\n",
       "      <td>Chennai</td>\n",
       "      <td>...</td>\n",
       "      <td>Yes</td>\n",
       "      <td>Yes</td>\n",
       "      <td>Yes</td>\n",
       "      <td>Yes</td>\n",
       "      <td>Yes</td>\n",
       "      <td>Yes</td>\n",
       "      <td>Yes</td>\n",
       "      <td>Yes</td>\n",
       "      <td>Yes</td>\n",
       "      <td>Married</td>\n",
       "    </tr>\n",
       "    <tr>\n",
       "      <th>1231</th>\n",
       "      <td>2016-05-06</td>\n",
       "      <td>Pfizer</td>\n",
       "      <td>Pharmaceuticals</td>\n",
       "      <td>Chennai</td>\n",
       "      <td>Niche</td>\n",
       "      <td>generic drugs – RA</td>\n",
       "      <td>Scheduled</td>\n",
       "      <td>Candidate 1232</td>\n",
       "      <td>Male</td>\n",
       "      <td>Chennai</td>\n",
       "      <td>...</td>\n",
       "      <td>Yes</td>\n",
       "      <td>Yes</td>\n",
       "      <td>Yes</td>\n",
       "      <td>Yes</td>\n",
       "      <td>Yes</td>\n",
       "      <td>Yes</td>\n",
       "      <td>Yes</td>\n",
       "      <td>Yes</td>\n",
       "      <td>Yes</td>\n",
       "      <td>Single</td>\n",
       "    </tr>\n",
       "    <tr>\n",
       "      <th>1232</th>\n",
       "      <td>2016-05-06</td>\n",
       "      <td>Pfizer</td>\n",
       "      <td>Pharmaceuticals</td>\n",
       "      <td>Chennai</td>\n",
       "      <td>Niche</td>\n",
       "      <td>generic drugs – RA</td>\n",
       "      <td>Scheduled</td>\n",
       "      <td>Candidate 1233</td>\n",
       "      <td>Female</td>\n",
       "      <td>Chennai</td>\n",
       "      <td>...</td>\n",
       "      <td>NaN</td>\n",
       "      <td>NaN</td>\n",
       "      <td>NaN</td>\n",
       "      <td>NaN</td>\n",
       "      <td>NaN</td>\n",
       "      <td>NaN</td>\n",
       "      <td>NaN</td>\n",
       "      <td>Uncertain</td>\n",
       "      <td>Yes</td>\n",
       "      <td>Single</td>\n",
       "    </tr>\n",
       "  </tbody>\n",
       "</table>\n",
       "<p>3 rows × 23 columns</p>\n",
       "</div>"
      ],
      "text/plain": [
       "     Date of Interview Client name         Industry Location  \\\n",
       "1230        2016-05-06      Pfizer  Pharmaceuticals  Chennai   \n",
       "1231        2016-05-06      Pfizer  Pharmaceuticals  Chennai   \n",
       "1232        2016-05-06      Pfizer  Pharmaceuticals  Chennai   \n",
       "\n",
       "     Position to be closed  Nature of Skillset Interview Type   Name(Cand ID)  \\\n",
       "1230                 Niche        Biosimiliars     Scheduled   Candidate 1231   \n",
       "1231                 Niche  generic drugs – RA     Scheduled   Candidate 1232   \n",
       "1232                 Niche  generic drugs – RA     Scheduled   Candidate 1233   \n",
       "\n",
       "      Gender Candidate Current Location      ...        \\\n",
       "1230    Male                    Chennai      ...         \n",
       "1231    Male                    Chennai      ...         \n",
       "1232  Female                    Chennai      ...         \n",
       "\n",
       "     Have you obtained the necessary permission to start at the required time  \\\n",
       "1230                                                Yes                         \n",
       "1231                                                Yes                         \n",
       "1232                                                NaN                         \n",
       "\n",
       "     Hope there will be no unscheduled meetings  \\\n",
       "1230                                        Yes   \n",
       "1231                                        Yes   \n",
       "1232                                        NaN   \n",
       "\n",
       "     Can I Call you three hours before the interview and follow up on your attendance for the interview  \\\n",
       "1230                                                Yes                                                   \n",
       "1231                                                Yes                                                   \n",
       "1232                                                NaN                                                   \n",
       "\n",
       "     Can I have an alternative number/ desk number. I assure you that I will not trouble you too much  \\\n",
       "1230                                                Yes                                                 \n",
       "1231                                                Yes                                                 \n",
       "1232                                                NaN                                                 \n",
       "\n",
       "     Have you taken a printout of your updated resume. Have you read the JD and understood the same  \\\n",
       "1230                                                Yes                                               \n",
       "1231                                                Yes                                               \n",
       "1232                                                NaN                                               \n",
       "\n",
       "     Are you clear with the venue details and the landmark.  \\\n",
       "1230                                                Yes       \n",
       "1231                                                Yes       \n",
       "1232                                                NaN       \n",
       "\n",
       "     Has the call letter been shared Expected Attendance Observed Attendance  \\\n",
       "1230                             Yes                 Yes                 Yes   \n",
       "1231                             Yes                 Yes                 Yes   \n",
       "1232                             NaN           Uncertain                 Yes   \n",
       "\n",
       "     Marital Status  \n",
       "1230        Married  \n",
       "1231         Single  \n",
       "1232         Single  \n",
       "\n",
       "[3 rows x 23 columns]"
      ]
     },
     "execution_count": 9,
     "metadata": {},
     "output_type": "execute_result"
    }
   ],
   "source": [
    "df = df[0:1233]\n",
    "df.tail(3)"
   ]
  },
  {
   "cell_type": "markdown",
   "metadata": {},
   "source": [
    "## Cleaning our dataset <a name=\"datatag\"></a>\n",
    "\n",
    "Let's relook at the values for several of the columns to see if there is anything we need to clean up.  \n",
    "\n",
    "First we'll look at the company (Client) name:"
   ]
  },
  {
   "cell_type": "code",
   "execution_count": 10,
   "metadata": {},
   "outputs": [
    {
     "name": "stdout",
     "output_type": "stream",
     "text": [
      "Column Client name contains values:\n",
      "\t *Hospira\n",
      "\t *Aon Hewitt\n",
      "\t *UST\n",
      "\t *Standard Chartered Bank\n",
      "\t *ANZ\n",
      "\t *Pfizer\n",
      "\t *Standard Chartered Bank Chennai\n",
      "\t *Aon hewitt Gurgaon\n",
      "\t *Astrazeneca\n",
      "\t *Flextronics\n"
     ]
    }
   ],
   "source": [
    "column = 'Client name'\n",
    "getUniqueValueFormatter('Client name')"
   ]
  },
  {
   "cell_type": "markdown",
   "metadata": {},
   "source": [
    "Some of the companies are further specified by the location of the office building.  Since there is a location column, let's just simplify the data."
   ]
  },
  {
   "cell_type": "code",
   "execution_count": 11,
   "metadata": {},
   "outputs": [
    {
     "name": "stdout",
     "output_type": "stream",
     "text": [
      "Column Client name contains values:\n",
      "\t *Hospira\n",
      "\t *Aon Hewitt\n",
      "\t *UST\n",
      "\t *Standard Chartered Bank\n",
      "\t *ANZ\n",
      "\t *Pfizer\n",
      "\t *Astrazeneca\n",
      "\t *Flextronics\n",
      "\t *Prodapt\n",
      "\t *Williams Lea\n"
     ]
    }
   ],
   "source": [
    "df.loc[df[column].str.contains(\"Standard Chartered Bank\"), column] = \"Standard Chartered Bank\"\n",
    "df.loc[df[column].str.contains(\"Aon\"), column] = \"Aon Hewitt\"\n",
    "\n",
    "getUniqueValueFormatter(column)"
   ]
  },
  {
   "cell_type": "markdown",
   "metadata": {},
   "source": [
    "Let's look at the industry that the person is applying to:"
   ]
  },
  {
   "cell_type": "code",
   "execution_count": 12,
   "metadata": {},
   "outputs": [
    {
     "name": "stdout",
     "output_type": "stream",
     "text": [
      "Column Industry contains values:\n",
      "\t *Pharmaceuticals\n",
      "\t *IT Services\n",
      "\t *BFSI\n",
      "\t *IT Products and Services\n",
      "\t *Electronics\n",
      "\t *Telecom\n",
      "\t *IT\n"
     ]
    }
   ],
   "source": [
    "getUniqueValueFormatter('Industry')"
   ]
  },
  {
   "cell_type": "markdown",
   "metadata": {},
   "source": [
    "We notice that there are three repeated values representing IT.  Let's condense the repeats into a common value:"
   ]
  },
  {
   "cell_type": "code",
   "execution_count": 13,
   "metadata": {},
   "outputs": [
    {
     "name": "stdout",
     "output_type": "stream",
     "text": [
      "Column Industry contains values:\n",
      "\t *Pharmaceuticals\n",
      "\t *IT\n",
      "\t *Electronics\n",
      "\t *Telecom\n"
     ]
    }
   ],
   "source": [
    "df.loc[df['Industry'].str.contains(\"IT*\"), 'Industry'] = \"IT\"\n",
    "getUniqueValueFormatter('Industry')"
   ]
  },
  {
   "cell_type": "markdown",
   "metadata": {},
   "source": [
    "Let's now look at the Location:"
   ]
  },
  {
   "cell_type": "code",
   "execution_count": 14,
   "metadata": {},
   "outputs": [
    {
     "name": "stdout",
     "output_type": "stream",
     "text": [
      "Column Location contains values:\n",
      "\t *Chennai\n",
      "\t *Gurgaon\n",
      "\t *Bangalore\n",
      "\t *Hyderabad\n",
      "\t *Gurgaonr\n",
      "\t *Delhi\n",
      "\t *chennai\n",
      "\t *- Cochin- \n",
      "\t *Noida\n",
      "\t *CHENNAI\n"
     ]
    }
   ],
   "source": [
    "getUniqueValueFormatter('Location')"
   ]
  },
  {
   "cell_type": "markdown",
   "metadata": {},
   "source": [
    "Looks like Chennai is represented in different formats.  Cochin also contains unnecessary characters.  We can solve this by making all strings lowercase and removing unnecessary characters:"
   ]
  },
  {
   "cell_type": "code",
   "execution_count": 15,
   "metadata": {},
   "outputs": [
    {
     "name": "stdout",
     "output_type": "stream",
     "text": [
      "Column Location contains values:\n",
      "\t *chennai\n",
      "\t *gurgaon\n",
      "\t *bangalore\n",
      "\t *hyderabad\n",
      "\t *gurgaonr\n",
      "\t *delhi\n",
      "\t *cochin\n",
      "\t *noida\n"
     ]
    }
   ],
   "source": [
    "df['Location'] = df['Location'].str.strip('- ')\n",
    "df['Location'] = df['Location'].str.lower()\n",
    "\n",
    "getUniqueValueFormatter('Location')"
   ]
  },
  {
   "cell_type": "markdown",
   "metadata": {},
   "source": [
    "Let's look at the position to be closed:"
   ]
  },
  {
   "cell_type": "code",
   "execution_count": 16,
   "metadata": {},
   "outputs": [
    {
     "name": "stdout",
     "output_type": "stream",
     "text": [
      "Column Position to be closed contains values:\n",
      "\t *Production- Sterile\n",
      "\t *Selenium testing\n",
      "\t *Dot Net\n",
      "\t *AML\n",
      "\t *Trade Finance\n",
      "\t *Routine\n",
      "\t *Niche\n"
     ]
    }
   ],
   "source": [
    "getUniqueValueFormatter('Position to be closed')"
   ]
  },
  {
   "cell_type": "markdown",
   "metadata": {},
   "source": [
    "It doesn't look like there's anything to clean up.  Let's look at Nature of Skillset:"
   ]
  },
  {
   "cell_type": "code",
   "execution_count": 17,
   "metadata": {},
   "outputs": [
    {
     "name": "stdout",
     "output_type": "stream",
     "text": [
      "Column Nature of Skillset contains values:\n",
      "\t *Routine\n",
      "\t *Oracle\n",
      "\t *Accounting Operations\n",
      "\t *Banking Operations\n",
      "\t *Fresher\n",
      "\t *AML/KYC/CDD\n",
      "\t *CDD KYC\n",
      "\t *Biosimiliars\n",
      "\t *RA Label\n",
      "\t *RA Publishing\n",
      "\t *EMEA\n",
      "\t *LCM -Manager\n",
      "\t *Licensing – RA\n",
      "\t *generic drugs – RA\n",
      "\t *Biosimilars\n",
      "\t *Regulatory\n",
      "\t *Analytical R & D\n",
      "\t *Analytical R&D\n",
      "\t *Senior software engineer-Mednet\n",
      "\t *Tech lead-Mednet\n",
      "\t *Tech Lead- Mednet\n",
      "\t *Technical Lead\n",
      "\t *Sr Automation Testing\n",
      "\t *TL\n",
      "\t *Senior Analyst\n",
      "\t *production\n",
      "\t *Production\n",
      "\t *Core Java\n",
      "\t *Java J2EE\n",
      "\t *Oracle Plsql\n",
      "\t *Java,SQL\n",
      "\t *Automation Testing Java\n",
      "\t *Submission Management\n",
      "\t *Biosimillar\n",
      "\t *Publishing\n",
      "\t *Global Labelling\n",
      "\t *ALS Testing\n",
      "\t *Java Developer\n",
      "\t *Lending and Liabilities\n",
      "\t *Lending & Liability\n",
      "\t *Lending And Liabilities\n",
      "\t *L & L\n",
      "\t *Banking operations\n",
      "\t *Lending&Liablities\n",
      "\t *JAVA/J2EE/Struts/Hibernate\n",
      "\t *JAVA/SPRING/HIBERNATE/JSF\n",
      "\t *Java\n",
      "\t *Java JSF\n",
      "\t *Java,J2ee, JSF\n",
      "\t *Java ,J2ee\n",
      "\t *Java J2ee\n",
      "\t *11.30 AM\n",
      "\t *10.00 AM\n",
      "\t *9.00 Am\n",
      "\t *12.30 Pm\n",
      "\t *9.30 AM\n",
      "\t *11.30 Am\n",
      "\t *Java, J2Ee\n",
      "\t *Java,J2EE\n",
      "\t *Java/J2ee/Core Java\n",
      "\t *Java/J2ee\n",
      "\t *JAVA, J2ee\n",
      "\t *JAVA,J2ee\n",
      "\t *T-24 developer\n",
      "\t *COTS Developer\n",
      "\t *Product Control\n",
      "\t *Dot Net\n",
      "\t *COTS\n",
      "\t *testing\n",
      "\t *- SAPBO, Informatica\n",
      "\t *ETL\n",
      "\t *Java-SAS\n",
      "\t *Java Tech Lead\n",
      "\t *Manager\n",
      "\t *JAVA,SQL\n",
      "\t *Java, SQL\n",
      "\t *Hadoop\n",
      "\t *SCCM\n",
      "\t *SCCM-(Network, sharepoint,ms exchange)\n",
      "\t *SCCm- Desktop support\n",
      "\t *Sccm- networking\n",
      "\t *sccm\n",
      "\t *SCCM – SQL\n",
      "\t *SCCM – Sharepoint\n",
      "\t *Production Support - SCCM\n",
      "\t *SAS\n",
      "\t *BaseSAS Program/ Reporting\n",
      "\t *Java, Spring, Hibernate\n",
      "\t *Java,spring,hibernate\n",
      "\t *Java, XML, Struts, hibernate\n",
      "\t *JAVA/J2EE\n",
      "\t *Java \n"
     ]
    }
   ],
   "source": [
    "column = 'Nature of Skillset'\n",
    "getUniqueValueFormatter(column, 1000)"
   ]
  },
  {
   "cell_type": "markdown",
   "metadata": {},
   "source": [
    "There's definitely room for improvement for this column.  It might be tricky though since skills are specified in a specific manner.  For now, let's generalize some of the data:"
   ]
  },
  {
   "cell_type": "code",
   "execution_count": 18,
   "metadata": {},
   "outputs": [
    {
     "name": "stdout",
     "output_type": "stream",
     "text": [
      "Column Nature of Skillset contains values:\n",
      "\t *Routine\n",
      "\t *Oracle\n",
      "\t *Accounting Operations\n",
      "\t *Banking Operations\n",
      "\t *Fresher\n",
      "\t *AML/KYC/CDD\n",
      "\t *CDD KYC\n",
      "\t *Biosimiliars\n",
      "\t *RA Label\n",
      "\t *RA Publishing\n",
      "\t *EMEA\n",
      "\t *LCM -Manager\n",
      "\t *Licensing – RA\n",
      "\t *generic drugs – RA\n",
      "\t *Biosimilars\n",
      "\t *Regulatory\n",
      "\t *Analytical R&D\n",
      "\t *Senior software engineer-Mednet\n",
      "\t *Tech Lead - Mednet\n",
      "\t *Technical Lead\n",
      "\t *Sr Automation Testing\n",
      "\t *TL\n",
      "\t *Senior Analyst\n",
      "\t *Production\n",
      "\t *Java\n",
      "\t *Oracle Plsql\n",
      "\t *Submission Management\n",
      "\t *Biosimillar\n",
      "\t *Publishing\n",
      "\t *Global Labelling\n",
      "\t *ALS Testing\n",
      "\t *Lending & Liability\n",
      "\t *Banking operations\n",
      "\t *11.30 AM\n",
      "\t *10.00 AM\n",
      "\t *9.00 Am\n",
      "\t *12.30 Pm\n",
      "\t *9.30 AM\n",
      "\t *11.30 Am\n",
      "\t *T-24 developer\n",
      "\t *COTS Developer\n",
      "\t *Product Control\n",
      "\t *Dot Net\n",
      "\t *COTS\n",
      "\t *testing\n",
      "\t *- SAPBO, Informatica\n",
      "\t *ETL\n",
      "\t *Manager\n",
      "\t *Hadoop\n",
      "\t *SCCM\n",
      "\t *SAS\n",
      "\t *BaseSAS Program/ Reporting\n"
     ]
    }
   ],
   "source": [
    "df.loc[df[column].str.contains(\"Java\", case=False), column] = \"Java\"\n",
    "df.loc[df[column].str.contains(\"SCCM\", case=False), column] = \"SCCM\"\n",
    "df.loc[df[column].str.contains(\"Analytical R & D\", case=False), column] = \"Analytical R&D\"\n",
    "df.loc[df[column].str.contains(\"Lending\", case=False), column] = \"Lending & Liability\"\n",
    "df.loc[df[column].str.contains(\"L & L\", case=False), column] = \"Lending & Liability\"\n",
    "df.loc[df[column].str.contains(\"Tech lead\", case=False), column] = \"Tech Lead - Mednet\"\n",
    "df.loc[df[column].str.contains(\"production\", case=False), column] = \"Production\"\n",
    "\n",
    "getUniqueValueFormatter(column, 1000)"
   ]
  },
  {
   "cell_type": "markdown",
   "metadata": {},
   "source": [
    "Note that some of our fields contain a time instead of a skill.  It could be possible that the times represent when the candidate is expected to be at work.\n",
    "\n",
    "Let's look at interview type:"
   ]
  },
  {
   "cell_type": "code",
   "execution_count": 19,
   "metadata": {},
   "outputs": [
    {
     "name": "stdout",
     "output_type": "stream",
     "text": [
      "Column Interview Type contains values:\n",
      "\t *Scheduled Walkin\n",
      "\t *Scheduled \n",
      "\t *Walkin\n",
      "\t *Scheduled Walk In\n",
      "\t *Sceduled walkin\n",
      "\t *Walkin \n"
     ]
    }
   ],
   "source": [
    "getUniqueValueFormatter('Interview Type')"
   ]
  },
  {
   "cell_type": "markdown",
   "metadata": {},
   "source": [
    "We have a few problems:\n",
    "\n",
    "* There are values that are different due to a single whitespace.\n",
    "* There are three repeats of Scheduled Walkin in different representations.  One of these is spelt incorrectly.\n",
    "* Is there really a difference between Scheduled and Scheduled Walkin?\n",
    "\n",
    "For clarity, I would like to reduce Scheduled Walkin to Scheduled.  Now let's clean up this column:"
   ]
  },
  {
   "cell_type": "code",
   "execution_count": 20,
   "metadata": {},
   "outputs": [
    {
     "name": "stdout",
     "output_type": "stream",
     "text": [
      "Column Interview Type contains values:\n",
      "\t *Scheduled\n",
      "\t *Walkin\n"
     ]
    }
   ],
   "source": [
    "df['Interview Type'] = df['Interview Type'].str.strip()\n",
    "df.loc[df['Interview Type'].str.contains('Sc*W*'), 'Interview Type'] = \"Scheduled\"\n",
    "\n",
    "getUniqueValueFormatter('Interview Type')"
   ]
  },
  {
   "cell_type": "markdown",
   "metadata": {},
   "source": [
    "I previously mentioned that Name(Cand ID) is not very useful since we already have unqiue indexes.  Let's remove this field."
   ]
  },
  {
   "cell_type": "code",
   "execution_count": 21,
   "metadata": {},
   "outputs": [
    {
     "name": "stdout",
     "output_type": "stream",
     "text": [
      "Column removed\n"
     ]
    }
   ],
   "source": [
    "if 'Name(Cand ID)' in df.columns:\n",
    "    df = df.drop('Name(Cand ID)', axis=1)\n",
    "\n",
    "if 'Name(Cand ID)' not in df.columns:\n",
    "    print(\"Column removed\")"
   ]
  },
  {
   "cell_type": "markdown",
   "metadata": {},
   "source": [
    "Let's now check gender:"
   ]
  },
  {
   "cell_type": "code",
   "execution_count": 22,
   "metadata": {},
   "outputs": [
    {
     "name": "stdout",
     "output_type": "stream",
     "text": [
      "Column Gender contains values:\n",
      "\t *Male\n",
      "\t *Female\n"
     ]
    }
   ],
   "source": [
    "getUniqueValueFormatter('Gender')"
   ]
  },
  {
   "cell_type": "markdown",
   "metadata": {},
   "source": [
    "No need to clean this column.  Let's look at the candidate's current location.  I suspect that there will be similar issues with the column values:"
   ]
  },
  {
   "cell_type": "code",
   "execution_count": 23,
   "metadata": {},
   "outputs": [
    {
     "name": "stdout",
     "output_type": "stream",
     "text": [
      "Column Candidate Current Location contains values:\n",
      "\t *Chennai\n",
      "\t *Gurgaon\n",
      "\t *Bangalore\n",
      "\t *Hyderabad\n",
      "\t *Delhi\n",
      "\t *chennai\n",
      "\t *- Cochin- \n",
      "\t *Noida\n",
      "\t *CHENNAI\n",
      "\t *chennai \n"
     ]
    }
   ],
   "source": [
    "getUniqueValueFormatter('Candidate Current Location')"
   ]
  },
  {
   "cell_type": "markdown",
   "metadata": {},
   "source": [
    "I was correct.  Fortunately, we already have a solution to solve this issue:"
   ]
  },
  {
   "cell_type": "code",
   "execution_count": 24,
   "metadata": {},
   "outputs": [
    {
     "name": "stdout",
     "output_type": "stream",
     "text": [
      "Column Candidate Current Location contains values:\n",
      "\t *chennai\n",
      "\t *gurgaon\n",
      "\t *bangalore\n",
      "\t *hyderabad\n",
      "\t *delhi\n",
      "\t *cochin\n",
      "\t *noida\n"
     ]
    }
   ],
   "source": [
    "column = 'Candidate Current Location'\n",
    "df[column] = df[column].str.strip('- ')\n",
    "df[column] = df[column].str.lower()\n",
    "\n",
    "getUniqueValueFormatter(column)"
   ]
  },
  {
   "cell_type": "markdown",
   "metadata": {},
   "source": [
    "Let's see whether the permissions have be granted to start at a specified time:"
   ]
  },
  {
   "cell_type": "code",
   "execution_count": 25,
   "metadata": {},
   "outputs": [
    {
     "name": "stdout",
     "output_type": "stream",
     "text": [
      "Column Have you obtained the necessary permission to start at the required time contains values:\n",
      "\t *Yes\n",
      "\t *nan\n",
      "\t *No\n",
      "\t *Not yet\n",
      "\t *Yet to confirm\n",
      "\t *NO\n",
      "\t *yes\n",
      "\t *Na\n"
     ]
    }
   ],
   "source": [
    "column = 'Have you obtained the necessary permission to start at the required time'\n",
    "getUniqueValueFormatter(column)"
   ]
  },
  {
   "cell_type": "markdown",
   "metadata": {},
   "source": [
    "There are a few things to note:\n",
    "\n",
    "* There are multiple representations for the same value.\n",
    "* Is there a difference between Yet to confirm and Not yet or NO and Na?\n",
    "* Since there is some data missing, what should we do with this?\n",
    "\n",
    "Since \"Yet to confirm\" and \"Not yet\" are synomounous, we'll change them to \"Not yet\".  \"Na\" could be a misspelling, so we can just change it to \"no.\"\n",
    "\n",
    "The case of missing data is important to note.  We don't really know what missing data means in this context.  For simplicity sake, let's change this the missing data to \"Not yet.\""
   ]
  },
  {
   "cell_type": "code",
   "execution_count": 26,
   "metadata": {},
   "outputs": [
    {
     "name": "stdout",
     "output_type": "stream",
     "text": [
      "Column Have you obtained the necessary permission to start at the required time contains values:\n",
      "\t *yes\n",
      "\t *not yet\n",
      "\t *no\n"
     ]
    }
   ],
   "source": [
    "df[column] = df[column].fillna('Not yet')\n",
    "df.loc[df[column].str.contains('Na'), column] = 'No'\n",
    "df.loc[df[column].str.contains('Yet to confirm'), column] = 'Not yet'\n",
    "df[column] = df[column].str.lower()\n",
    "\n",
    "getUniqueValueFormatter(column)"
   ]
  },
  {
   "cell_type": "markdown",
   "metadata": {},
   "source": [
    "Let's see about unscheduled meetings:"
   ]
  },
  {
   "cell_type": "code",
   "execution_count": 27,
   "metadata": {},
   "outputs": [
    {
     "name": "stdout",
     "output_type": "stream",
     "text": [
      "Column Hope there will be no unscheduled meetings contains values:\n",
      "\t *Yes\n",
      "\t *Na\n",
      "\t *No\n",
      "\t *nan\n",
      "\t *yes\n",
      "\t *Not Sure\n",
      "\t *cant Say\n",
      "\t *Not sure\n"
     ]
    }
   ],
   "source": [
    "column = 'Hope there will be no unscheduled meetings'\n",
    "getUniqueValueFormatter(column)"
   ]
  },
  {
   "cell_type": "markdown",
   "metadata": {},
   "source": [
    "Just like with the last column, the notes are exactly the same.  Let's use similar rules"
   ]
  },
  {
   "cell_type": "code",
   "execution_count": 28,
   "metadata": {},
   "outputs": [
    {
     "name": "stdout",
     "output_type": "stream",
     "text": [
      "Column Hope there will be no unscheduled meetings contains values:\n",
      "\t *yes\n",
      "\t *no\n",
      "\t *not sure\n"
     ]
    }
   ],
   "source": [
    "df[column] = df[column].fillna('Not Sure')\n",
    "df.loc[df[column].str.contains('Na'), column] = 'No'\n",
    "df.loc[df[column].str.contains('cant'), column] = 'Not Sure'\n",
    "df[column] = df[column].str.lower()\n",
    "\n",
    "getUniqueValueFormatter(column)"
   ]
  },
  {
   "cell_type": "markdown",
   "metadata": {},
   "source": [
    "Onto checking before and after an interview:"
   ]
  },
  {
   "cell_type": "code",
   "execution_count": 29,
   "metadata": {},
   "outputs": [
    {
     "name": "stdout",
     "output_type": "stream",
     "text": [
      "Column Can I Call you three hours before the interview and follow up on your attendance for the interview contains values:\n",
      "\t *Yes\n",
      "\t *nan\n",
      "\t *No\n",
      "\t *No Dont\n",
      "\t *Na\n",
      "\t *yes\n"
     ]
    }
   ],
   "source": [
    "column = \"Can I Call you three hours before the interview and follow up on your attendance for the interview\"\n",
    "getUniqueValueFormatter(column)"
   ]
  },
  {
   "cell_type": "markdown",
   "metadata": {},
   "source": [
    "Unlike the last several cases, missing data doesn't necessarily have a specific meaning.  We could say missing data means no or simply that they don't really know.  For simplicity, let's define missing data as a \"Not sure\" answer."
   ]
  },
  {
   "cell_type": "code",
   "execution_count": 30,
   "metadata": {},
   "outputs": [
    {
     "name": "stdout",
     "output_type": "stream",
     "text": [
      "Column Can I Call you three hours before the interview and follow up on your attendance for the interview contains values:\n",
      "\t *yes\n",
      "\t *no\n"
     ]
    }
   ],
   "source": [
    "df[column] = df[column].fillna('Not sure')\n",
    "df.loc[df[column].str.contains('Na'), column] = 'No'\n",
    "df.loc[df[column].str.contains('No'), column] = 'No'\n",
    "df[column] = df[column].str.lower()\n",
    "\n",
    "getUniqueValueFormatter(column)"
   ]
  },
  {
   "cell_type": "markdown",
   "metadata": {},
   "source": [
    "Let's see how users responsed to giving their alternative phone numbers."
   ]
  },
  {
   "cell_type": "code",
   "execution_count": 31,
   "metadata": {},
   "outputs": [
    {
     "name": "stdout",
     "output_type": "stream",
     "text": [
      "Column Can I have an alternative number/ desk number. I assure you that I will not trouble you too much contains values:\n",
      "\t *Yes\n",
      "\t *nan\n",
      "\t *No\n",
      "\t *No I have only thi number\n",
      "\t *na\n",
      "\t *yes\n",
      "\t *Na\n"
     ]
    }
   ],
   "source": [
    "column = \"Can I have an alternative number/ desk number. I assure you that I will not trouble you too much\"\n",
    "getUniqueValueFormatter(column)"
   ]
  },
  {
   "cell_type": "markdown",
   "metadata": {},
   "source": [
    "Seems that we can apply similar data cleaning techniques that we used in the earlier columns:"
   ]
  },
  {
   "cell_type": "code",
   "execution_count": 32,
   "metadata": {},
   "outputs": [
    {
     "name": "stdout",
     "output_type": "stream",
     "text": [
      "Column Can I have an alternative number/ desk number. I assure you that I will not trouble you too much contains values:\n",
      "\t *yes\n",
      "\t *no\n",
      "\t *na\n"
     ]
    }
   ],
   "source": [
    "df[column] = df[column].fillna('No')\n",
    "df.loc[df[column].str.contains('na'), column] = 'No'\n",
    "df.loc[df[column].str.contains('No'), column] = 'No'\n",
    "df[column] = df[column].str.lower()\n",
    "\n",
    "getUniqueValueFormatter(column)"
   ]
  },
  {
   "cell_type": "markdown",
   "metadata": {},
   "source": [
    "How about getting the latest version of the applicant's resume?"
   ]
  },
  {
   "cell_type": "code",
   "execution_count": 33,
   "metadata": {},
   "outputs": [
    {
     "name": "stdout",
     "output_type": "stream",
     "text": [
      "Column Have you taken a printout of your updated resume. Have you read the JD and understood the same contains values:\n",
      "\t *Yes\n",
      "\t *nan\n",
      "\t *No\n",
      "\t *No- will take it soon\n",
      "\t *Not yet\n",
      "\t *na\n",
      "\t *yes\n",
      "\t *Na\n",
      "\t *Not Yet\n"
     ]
    }
   ],
   "source": [
    "column = \"Have you taken a printout of your updated resume. Have you read the JD and understood the same\"\n",
    "getUniqueValueFormatter(column)"
   ]
  },
  {
   "cell_type": "markdown",
   "metadata": {},
   "source": [
    "We'll apply the following lines to clean out this column:"
   ]
  },
  {
   "cell_type": "code",
   "execution_count": 34,
   "metadata": {},
   "outputs": [
    {
     "name": "stdout",
     "output_type": "stream",
     "text": [
      "Column Have you taken a printout of your updated resume. Have you read the JD and understood the same contains values:\n",
      "\t *yes\n",
      "\t *not yet\n",
      "\t *no\n"
     ]
    }
   ],
   "source": [
    "df[column] = df[column].fillna('Not Yet')\n",
    "df.loc[df[column].str.contains('No-'), column] = 'No'\n",
    "df.loc[df[column].str.contains('Na', case=False), column] = 'no'\n",
    "df[column] = df[column].str.lower()\n",
    "\n",
    "getUniqueValueFormatter(column)"
   ]
  },
  {
   "cell_type": "markdown",
   "metadata": {},
   "source": [
    "How about venue details and landmark?"
   ]
  },
  {
   "cell_type": "code",
   "execution_count": 35,
   "metadata": {},
   "outputs": [
    {
     "name": "stdout",
     "output_type": "stream",
     "text": [
      "Column Are you clear with the venue details and the landmark. contains values:\n",
      "\t *Yes\n",
      "\t *nan\n",
      "\t *No\n",
      "\t *No- I need to check\n",
      "\t *na\n",
      "\t *yes\n",
      "\t *Na\n",
      "\t *no\n"
     ]
    }
   ],
   "source": [
    "column = \"Are you clear with the venue details and the landmark.\"\n",
    "getUniqueValueFormatter(column)"
   ]
  },
  {
   "cell_type": "markdown",
   "metadata": {},
   "source": [
    "In this case, \"I need to check\" doesn't necessarily mean \"no\"."
   ]
  },
  {
   "cell_type": "code",
   "execution_count": 36,
   "metadata": {},
   "outputs": [
    {
     "name": "stdout",
     "output_type": "stream",
     "text": [
      "Column Are you clear with the venue details and the landmark. contains values:\n",
      "\t *yes\n",
      "\t *i need to check\n",
      "\t *no\n"
     ]
    }
   ],
   "source": [
    "df[column] = df[column].fillna('I need to check')\n",
    "df.loc[df[column].str.contains('No-'), column] = 'I need to check'\n",
    "df.loc[df[column].str.contains('Na', case=False), column] = 'no'\n",
    "df[column] = df[column].str.lower()\n",
    "\n",
    "getUniqueValueFormatter(column)"
   ]
  },
  {
   "cell_type": "markdown",
   "metadata": {},
   "source": [
    "Checking whether the call letter was shared:"
   ]
  },
  {
   "cell_type": "code",
   "execution_count": 37,
   "metadata": {},
   "outputs": [
    {
     "name": "stdout",
     "output_type": "stream",
     "text": [
      "Column Has the call letter been shared contains values:\n",
      "\t *Yes\n",
      "\t *nan\n",
      "\t *Havent Checked\n",
      "\t *No\n",
      "\t *Need To Check\n",
      "\t *Not sure\n",
      "\t *Yet to Check\n",
      "\t *Not Sure\n",
      "\t *Not yet\n",
      "\t *no\n"
     ]
    }
   ],
   "source": [
    "column = \"Has the call letter been shared\"\n",
    "getUniqueValueFormatter(column)"
   ]
  },
  {
   "cell_type": "markdown",
   "metadata": {},
   "source": [
    "We have several representations of \"Haven't checked\".  Let's group these representations into \"Need To Check\""
   ]
  },
  {
   "cell_type": "code",
   "execution_count": 38,
   "metadata": {},
   "outputs": [
    {
     "name": "stdout",
     "output_type": "stream",
     "text": [
      "Column Has the call letter been shared contains values:\n",
      "\t *yes\n",
      "\t *need to check\n",
      "\t *no\n"
     ]
    }
   ],
   "source": [
    "df[column] = df[column].fillna('Need To Check')\n",
    "df.loc[df[column].str.contains('H'), column] = 'Need To Check'\n",
    "df.loc[df[column].str.contains('Yet'), column] = 'Need To Check'\n",
    "df.loc[df[column].str.contains('Not'), column] = 'Need To Check'\n",
    "df.loc[df[column].str.contains('na', case=False), column] = 'No'\n",
    "df[column] = df[column].str.lower()\n",
    "\n",
    "getUniqueValueFormatter(column)"
   ]
  },
  {
   "cell_type": "markdown",
   "metadata": {},
   "source": [
    "Is the candidate's attendance expected?"
   ]
  },
  {
   "cell_type": "code",
   "execution_count": 39,
   "metadata": {},
   "outputs": [
    {
     "name": "stdout",
     "output_type": "stream",
     "text": [
      "Column Expected Attendance contains values:\n",
      "\t *Yes\n",
      "\t *Uncertain\n",
      "\t *No\n",
      "\t *NO\n",
      "\t *yes\n",
      "\t *nan\n",
      "\t *11:00 AM\n",
      "\t *10.30 Am\n"
     ]
    }
   ],
   "source": [
    "column = \"Expected Attendance\"\n",
    "getUniqueValueFormatter(column)"
   ]
  },
  {
   "cell_type": "markdown",
   "metadata": {},
   "source": [
    "Interestingly, we even get specific times that the candidate will attend.  For simplicity, specified times are a \"Yes.\""
   ]
  },
  {
   "cell_type": "code",
   "execution_count": 40,
   "metadata": {},
   "outputs": [
    {
     "name": "stdout",
     "output_type": "stream",
     "text": [
      "Column Expected Attendance contains values:\n",
      "\t *yes\n",
      "\t *uncertain\n",
      "\t *no\n"
     ]
    }
   ],
   "source": [
    "df[column] = df[column].fillna('Uncertain')\n",
    "df.loc[df[column].str.contains('1'), column] = 'Yes'\n",
    "df[column] = df[column].str.lower()\n",
    "\n",
    "getUniqueValueFormatter(column)"
   ]
  },
  {
   "cell_type": "markdown",
   "metadata": {},
   "source": [
    "Did the candidate attend?"
   ]
  },
  {
   "cell_type": "code",
   "execution_count": 41,
   "metadata": {},
   "outputs": [
    {
     "name": "stdout",
     "output_type": "stream",
     "text": [
      "Column Observed Attendance contains values:\n",
      "\t *No\n",
      "\t *Yes\n",
      "\t *yes\n",
      "\t *no\n",
      "\t *yes \n",
      "\t *No \n",
      "\t *NO\n",
      "\t *no \n"
     ]
    }
   ],
   "source": [
    "column = \"Observed Attendance\"\n",
    "getUniqueValueFormatter(column)"
   ]
  },
  {
   "cell_type": "markdown",
   "metadata": {},
   "source": [
    "Cleaning this column is simply removing all trailing whitespace and lowercasing all of the letters:"
   ]
  },
  {
   "cell_type": "code",
   "execution_count": 42,
   "metadata": {},
   "outputs": [
    {
     "name": "stdout",
     "output_type": "stream",
     "text": [
      "Column Observed Attendance contains values:\n",
      "\t *no\n",
      "\t *yes\n"
     ]
    }
   ],
   "source": [
    "df[column] = df[column].str.strip()\n",
    "df[column] = df[column].str.lower()\n",
    "\n",
    "getUniqueValueFormatter(column)"
   ]
  },
  {
   "cell_type": "markdown",
   "metadata": {},
   "source": [
    "Finally, let's check marital status:"
   ]
  },
  {
   "cell_type": "code",
   "execution_count": 43,
   "metadata": {},
   "outputs": [
    {
     "name": "stdout",
     "output_type": "stream",
     "text": [
      "Column Marital Status contains values:\n",
      "\t *Single\n",
      "\t *Married\n"
     ]
    }
   ],
   "source": [
    "column = \"Marital Status\"\n",
    "getUniqueValueFormatter(column)\n",
    "df[column] = df[column].str.lower()"
   ]
  },
  {
   "cell_type": "markdown",
   "metadata": {},
   "source": [
    "The data in this column is clean, so we just need to lowercase the data."
   ]
  },
  {
   "cell_type": "markdown",
   "metadata": {},
   "source": [
    "# Conclusion\n",
    "\n",
    "With the data now cleaned, let's export the csv file for future usage."
   ]
  },
  {
   "cell_type": "code",
   "execution_count": 44,
   "metadata": {},
   "outputs": [],
   "source": [
    "df.to_csv(\"Interview-Cleaned.csv\")"
   ]
  },
  {
   "cell_type": "markdown",
   "metadata": {},
   "source": [
    "For future reference, we should be able to perform EDA and model training without having to deal with garbage data."
   ]
  }
 ],
 "metadata": {
  "kernelspec": {
   "display_name": "Python 3",
   "language": "python",
   "name": "python3"
  },
  "language_info": {
   "codemirror_mode": {
    "name": "ipython",
    "version": 3
   },
   "file_extension": ".py",
   "mimetype": "text/x-python",
   "name": "python",
   "nbconvert_exporter": "python",
   "pygments_lexer": "ipython3",
   "version": "3.6.5"
  }
 },
 "nbformat": 4,
 "nbformat_minor": 2
}
